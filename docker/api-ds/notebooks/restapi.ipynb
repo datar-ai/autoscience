{
 "cells": [
  {
   "cell_type": "code",
   "execution_count": 1,
   "metadata": {
    "collapsed": true,
    "deletable": true,
    "editable": true
   },
   "outputs": [],
   "source": [
    "import os\n",
    "\n",
    "GATEWAY= True if os.environ.get('JUPYTER_GATEWAY') else False"
   ]
  },
  {
   "cell_type": "code",
   "execution_count": 2,
   "metadata": {
    "collapsed": false,
    "deletable": true,
    "editable": true
   },
   "outputs": [],
   "source": [
    "if not GATEWAY:\n",
    "    %matplotlib inline\n",
    "\n",
    "import matplotlib\n",
    "\n",
    "if GATEWAY:\n",
    "    matplotlib.use('agg')"
   ]
  },
  {
   "cell_type": "code",
   "execution_count": 3,
   "metadata": {
    "collapsed": false,
    "deletable": true,
    "editable": true
   },
   "outputs": [],
   "source": [
    "# imports\n",
    "import pandas as pd\n",
    "import numpy as np\n",
    "\n",
    "import re\n",
    "import json\n",
    "import yaml\n",
    "\n",
    "import copy\n",
    "\n",
    "# charts and plotting\n",
    "import seaborn as sns\n",
    "import matplotlib.pyplot as plt\n",
    "import matplotlib.cm as cm\n",
    "\n",
    "import base64\n",
    "import io\n",
    "import sys\n",
    "import urllib.parse\n",
    "\n",
    "from chardet.universaldetector import UniversalDetector\n",
    "\n",
    "#scikit\n",
    "from scipy.cluster import hierarchy\n",
    "from scipy.cluster.hierarchy import fcluster\n",
    "from sklearn.neighbors import NearestNeighbors\n",
    "\n",
    "from sklearn.decomposition import PCA\n",
    "from sklearn.manifold import TSNE\n",
    "\n",
    "from sklearn.cluster import DBSCAN\n",
    "from sklearn.metrics import silhouette_samples, silhouette_score\n",
    "\n",
    "from sklearn import tree\n",
    "\n",
    "import hdbscan\n",
    "\n",
    "from sklearn.externals.six import StringIO\n",
    "from IPython.display import Image  \n",
    "\n",
    "from wordcloud import WordCloud"
   ]
  },
  {
   "cell_type": "code",
   "execution_count": 4,
   "metadata": {
    "collapsed": true,
    "deletable": true,
    "editable": true
   },
   "outputs": [],
   "source": [
    "#settings\n",
    "np.set_printoptions(threshold=np.inf)"
   ]
  },
  {
   "cell_type": "code",
   "execution_count": 5,
   "metadata": {
    "collapsed": false,
    "deletable": true,
    "editable": true
   },
   "outputs": [],
   "source": [
    "# hierarchical apply function on mixed dict/list struct\n",
    "def map_nested_struct_modify(ob, func):\n",
    "    if isinstance(ob,list):\n",
    "        for v in ob:\n",
    "            if isinstance(v,list) or isinstance(v,dict):\n",
    "                map_nested_struct_modify(v, func)\n",
    "            else:\n",
    "                v = func(v)    \n",
    "    elif isinstance(ob,dict):\n",
    "        for k, v in ob.items():\n",
    "            if isinstance(ob[k],list) or isinstance(ob[k],dict):\n",
    "                map_nested_struct_modify(v, func)\n",
    "            else:\n",
    "                ob[k] = func(v)\n",
    "    else:\n",
    "        ob = func(ob)"
   ]
  },
  {
   "cell_type": "code",
   "execution_count": 6,
   "metadata": {
    "collapsed": false,
    "deletable": true,
    "editable": true
   },
   "outputs": [],
   "source": [
    "if not GATEWAY:\n",
    "    path='.'\n",
    "else:\n",
    "    path='/srv/notebooks'\n",
    "    \n",
    "datapath = \"{}/datasets\".format(path)\n",
    "\n",
    "datasets = [\n",
    "        {'id': '0', 'filename':'titanic.csv', 'desc':'Master of Life'},\n",
    "        {'id': '1', 'filename':'iris.csv',    'desc':'So many flowers'},\n",
    "        {'id': '2', 'filename':'pokemon.csv', 'desc':'Gotta catch \\'em all!'},\n",
    "        {'id': '3', 'filename':'boston.csv',  'desc':'Live and let live'}\n",
    "]\n",
    "\n",
    "df = pd.DataFrame()\n",
    "\n",
    "df_meta = {\n",
    "    'id'       : '',\n",
    "    'file'     : {},\n",
    "    'name'     : '',\n",
    "    'desc'     : '',\n",
    "    'vars'     : []\n",
    "}\n",
    "\n",
    "clusterer = None\n",
    "clusterer_id = None\n",
    "clusterer_X = None"
   ]
  },
  {
   "cell_type": "code",
   "execution_count": 7,
   "metadata": {
    "collapsed": true,
    "deletable": true,
    "editable": true
   },
   "outputs": [],
   "source": [
    "REQUEST = json.dumps({\n",
    "    'path' : {},\n",
    "    'args' : {}\n",
    "})"
   ]
  },
  {
   "cell_type": "code",
   "execution_count": 8,
   "metadata": {
    "collapsed": true,
    "deletable": true,
    "editable": true
   },
   "outputs": [],
   "source": [
    "def response_dict(d, content_type='application/json'):\n",
    "    if content_type == 'application/json':\n",
    "        if GATEWAY:\n",
    "            print(json.dumps(d))\n",
    "        else:\n",
    "            print(json.dumps(d, indent=4, sort_keys=True))\n",
    "    elif content_type == 'application/base64':\n",
    "        print(d)\n",
    "    elif content_type == 'application/xml' or content_type == 'text/xml':\n",
    "        print(yaml.dump(d))\n",
    "\n",
    "def response_meta(status=200, content_type='application/json'):\n",
    "    print(json.dumps({\n",
    "        \"headers\" : { \"Content-Type\" : content_type},\n",
    "        \"status\" : status\n",
    "    }))"
   ]
  },
  {
   "cell_type": "code",
   "execution_count": 9,
   "metadata": {
    "collapsed": false,
    "deletable": true,
    "editable": true
   },
   "outputs": [],
   "source": [
    "def uniquify(seq): \n",
    "    checked = dict()\n",
    "    uniq = []\n",
    "    for e in seq:\n",
    "        if e not in checked.keys():\n",
    "            if e:\n",
    "                checked[e]=0\n",
    "                uniq.append(e)\n",
    "            else:\n",
    "                checked[e]=1\n",
    "                uniq.append('_1')\n",
    "        else:\n",
    "            checked[e] += 1\n",
    "            uniq.append('{}_{}'.format(e,checked[e]))\n",
    "    return uniq\n",
    "\n",
    "def to_alphanum(s):\n",
    "    return re.sub(r'[^0-9A-Za-z._]+', '', s).lower()\n",
    "\n",
    "def prep_names(seq):\n",
    "    names = [ to_alphanum(x)  for x in seq]\n",
    "    return uniquify(names)\n",
    "\n",
    "def dtype_to_string(x):\n",
    "    return {\n",
    "        'b': 'bool',\n",
    "        'i': 'long',\n",
    "        'u': 'long',\n",
    "        'f': 'double',\n",
    "        'c': 'complex',\n",
    "        'O': 'object',\n",
    "        'S': 'char',\n",
    "        'a': 'char',\n",
    "        'U': 'string',\n",
    "        'V': 'raw'\n",
    "    }.get(x[1], 'unknown')\n",
    "\n",
    "def is_number(s):\n",
    "    try:\n",
    "        complex(s) # for int, long, float and complex\n",
    "    except ValueError:\n",
    "        return False\n",
    "    return True\n",
    "\n",
    "def is_float(s):\n",
    "    try:\n",
    "        float(s) # for int, long, float\n",
    "    except ValueError:\n",
    "        return False\n",
    "    return True\n",
    "\n",
    "def is_int(s):\n",
    "    try:\n",
    "        return float(s).is_integer() # for int, long, float\n",
    "    except ValueError:\n",
    "        return False\n",
    "\n",
    "def is_infinite(s):\n",
    "    try:\n",
    "        return np.isinf(float(s)) # for int, long, float\n",
    "    except ValueError:\n",
    "        return False\n",
    "\n",
    "def is_zero(s):\n",
    "    return not s\n",
    "\n",
    "def vector_purity(x):\n",
    "    for i in list(range(len(x))):\n",
    "        # hard compressor\n",
    "        x[i] = max(0, min(1, x[i]))\n",
    "    return max(x)*(1 - (sum(x)-1)/(len(x)-1))\n",
    "\n",
    "def get_typestats(sr):\n",
    "    infinite= sum(sr.apply(is_infinite))\n",
    "    real    = sum(sr.apply(is_number))\n",
    "    integer = sum(sr.apply(is_int))\n",
    "    nan     = sum(sr.isnull())\n",
    "    zero    = sum(sr.apply(is_zero))\n",
    "    unique  = len(sr.unique())\n",
    "    \n",
    "    unique  = unique - (1 if nan else 0)\n",
    "    count   = len(sr)\n",
    "    valid   = count-nan\n",
    "        \n",
    "    real = real - integer - nan\n",
    "    numeric = real + integer\n",
    "    string = count - real - integer - nan\n",
    "    \n",
    "    valid_ratio   = valid/count if count else 0\n",
    "    unique_ratio  = unique/valid if valid else 0\n",
    "    integer_ratio = integer/valid if valid else 0\n",
    "    real_ratio    = real/valid if valid else 0\n",
    "    string_ratio  = string/valid if valid else 0\n",
    "    numeric_ratio = numeric/valid if valid else 0\n",
    "\n",
    "    tpurity = vector_purity([integer_ratio, real_ratio, string_ratio])\n",
    "\n",
    "    #coerce to number with string\n",
    "    #require dealing with NA's\n",
    "    \n",
    "    if string>0:\n",
    "        tcoerce = 'string' \n",
    "    else:    \n",
    "        if integer_ratio>0.5 :\n",
    "            tcoerce = 'integer'\n",
    "        elif numeric_ratio>0.5 :\n",
    "            tcoerce = 'real'\n",
    "        else:\n",
    "            tcoerce = 'real'\n",
    "    \n",
    "    # log vs linear?\n",
    "    cat = False\n",
    "    if (unique_ratio)<0.1 :\n",
    "        cat = True\n",
    "    \n",
    "    ordinal = False\n",
    "    if tcoerce=='integer' or tcoerce=='real':\n",
    "        # correlation based\n",
    "        corr = np.corrcoef(sr, list(range(count)))\n",
    "        if (abs(corr[0,1])>0.95) : \n",
    "            ordinal = True\n",
    "                        \n",
    "        #weak\n",
    "        if  unique_ratio >0.9 : \n",
    "            ordinal = True\n",
    "    \n",
    "    if cat:\n",
    "        vtype = 'categorical'\n",
    "    elif tcoerce=='real':\n",
    "        vtype = 'continuous'\n",
    "    elif tcoerce=='integer' :\n",
    "        vtype = 'ordinal' if ordinal else 'descrete'\n",
    "    else:\n",
    "        vtype = 'unstructured'\n",
    "        \n",
    "    \n",
    "    d = { \n",
    "          'infinite': infinite,\n",
    "          'real'    : real,\n",
    "          'integer' : integer,\n",
    "          'nan'     : nan,\n",
    "          'zero'    : zero,\n",
    "          'string'  : string,\n",
    "          'unique'  : unique,\n",
    "          'valid'   : valid,\n",
    "          'quality' : valid_ratio*tpurity,\n",
    "          'cat'     : cat,\n",
    "          'vtype'   : vtype,\n",
    "          'tcoerce' : tcoerce,\n",
    "          'tpurity' : tpurity,\n",
    "          'dtype'   : dtype_to_string(sr.dtype.str)\n",
    "    }\n",
    "    \n",
    "    return d\n",
    "\n",
    "def numpy2py(ob):\n",
    "    return np.asscalar(ob) if isinstance(ob, np.generic) else ob\n",
    "\n",
    "def format_float(ob):\n",
    "    return float(format(ob,'.2f')) if isinstance(ob, float) else ob\n",
    "\n",
    "def numpy_tojson(ob):\n",
    "    map_nested_struct_modify(ob, numpy2py)\n",
    "    map_nested_struct_modify(ob, format_float)\n",
    "    return ob\n",
    "\n",
    "def sizeof_fmt(num, suffix='B'):\n",
    "    for unit in ['','K','M','G','T','P','E','Z']:\n",
    "        if abs(num) < 1024.0:\n",
    "            return \"%3.1f%s%s\" % (num, unit, suffix)\n",
    "        num /= 1024.0\n",
    "    return \"%.1f%s%s\" % (num, 'Yi', suffix)\n",
    "\n",
    "def detect_encoding(filename):\n",
    "    f = open(filename, 'rb')\n",
    "    detector = UniversalDetector()\n",
    "    for line in f:\n",
    "        detector.feed(line)\n",
    "        if detector.done: break\n",
    "    detector.close()\n",
    "    f.close()\n",
    "    return detector.result"
   ]
  },
  {
   "cell_type": "code",
   "execution_count": 10,
   "metadata": {
    "collapsed": false,
    "deletable": true,
    "editable": true
   },
   "outputs": [
    {
     "data": {
      "text/plain": [
       "['type', 'label', 'aaarg', 'label_1']"
      ]
     },
     "execution_count": 10,
     "metadata": {},
     "output_type": "execute_result"
    }
   ],
   "source": [
    "prep_names(['Type', 'lAbel','aaarg#$!%#', 'label;'])"
   ]
  },
  {
   "cell_type": "code",
   "execution_count": 11,
   "metadata": {
    "collapsed": false,
    "deletable": true,
    "editable": true
   },
   "outputs": [
    {
     "data": {
      "text/plain": [
       "{'cat': False,\n",
       " 'dtype': 'object',\n",
       " 'infinite': 1,\n",
       " 'integer': 4,\n",
       " 'nan': 1,\n",
       " 'quality': 0.39999999999999997,\n",
       " 'real': 2,\n",
       " 'string': 3,\n",
       " 'tcoerce': 'string',\n",
       " 'tpurity': 0.44444444444444442,\n",
       " 'unique': 8,\n",
       " 'valid': 9,\n",
       " 'vtype': 'unstructured',\n",
       " 'zero': 3}"
      ]
     },
     "execution_count": 11,
     "metadata": {},
     "output_type": "execute_result"
    }
   ],
   "source": [
    "# TEST\n",
    "sr = pd.Series([1,0.0, '', '', np.inf, np.nan, 2.9, '0', '111', 'kkk'])\n",
    "get_typestats(sr)"
   ]
  },
  {
   "cell_type": "code",
   "execution_count": 12,
   "metadata": {
    "collapsed": false,
    "deletable": true,
    "editable": true
   },
   "outputs": [],
   "source": [
    "# help functions\n",
    "def rows_na_any(df):\n",
    "    na_df = pd.isnull(df)\n",
    "    d = na_df.apply(np.any, axis=0)\n",
    "    return len(d[d==True])\n",
    "\n",
    "def col_na_any(df):\n",
    "    na_df = pd.isnull(df)\n",
    "    d = na_df.apply(np.any, axis=1)\n",
    "    return len(d[d==True])"
   ]
  },
  {
   "cell_type": "code",
   "execution_count": 13,
   "metadata": {
    "collapsed": false,
    "deletable": true,
    "editable": true
   },
   "outputs": [],
   "source": [
    "def load_dataset(id):\n",
    "    global datasets, df, df_meta\n",
    "\n",
    "    dataset = None\n",
    "    for item in datasets:\n",
    "        if id == item['id']:\n",
    "            dataset = item\n",
    "            break;\n",
    "            \n",
    "    if not dataset:\n",
    "        return False\n",
    "    \n",
    "    filename = dataset.get('filename', None)\n",
    "    \n",
    "    #check if it's already loaded\n",
    "    if id==df_meta['id']:\n",
    "        return True\n",
    "    \n",
    "    if filename:\n",
    "        filepath = \"{}/{}\".format(datapath,filename)\n",
    "        df = pd.read_csv(\n",
    "            filepath, \n",
    "            sep=None, \n",
    "            engine='python', \n",
    "            true_values=['True', 'true'], \n",
    "            false_values=['False','false']\n",
    "        )\n",
    "\n",
    "        #dataset id\n",
    "        df_meta['id']       = id\n",
    "        df_meta['desc']     = item.get('desc','')\n",
    "        df_meta['name']     = item.get('name',filename.split('.')[0].title())\n",
    "        df_meta['vars']     = [ {'id':str(i), 'alias' : k , 'name': v} for i,k,v in zip(list(range(len(df.columns))),prep_names(df.columns),df.columns) ]\n",
    "    \n",
    "        df_meta['file'] = {\n",
    "            'path'      : filepath,\n",
    "            'name'      : item['filename'],\n",
    "            'size'      : sizeof_fmt(os.path.getsize(filepath)),\n",
    "            'encoding'  : detect_encoding(filepath) \n",
    "        }\n",
    "        \n",
    "        #rename df columns\n",
    "        df.columns = prep_names(df.columns)\n",
    "        \n",
    "        i=0\n",
    "        for colname in df.columns:\n",
    "            sr = df[colname]\n",
    "            df_meta['vars'][i].update( {'type' : get_typestats(sr) } )\n",
    "            i += 1\n",
    "        \n",
    "        return True\n",
    "    else:\n",
    "        df = pd.DataFrame()\n",
    "        df_meta['id']   = id\n",
    "        df_meta['file'] = {}\n",
    "        df_meta['name'] = ''\n",
    "        df_meta['desc'] = ''\n",
    "        df_meta['vars'] = []\n",
    "        \n",
    "        return False"
   ]
  },
  {
   "cell_type": "code",
   "execution_count": 14,
   "metadata": {
    "collapsed": false,
    "deletable": true,
    "editable": true
   },
   "outputs": [],
   "source": [
    "# TEST\n",
    "#load_dataset('2')\n",
    "#json.dumps(numpy_tojson(df_meta))"
   ]
  },
  {
   "cell_type": "code",
   "execution_count": 15,
   "metadata": {
    "collapsed": false,
    "deletable": true,
    "editable": true
   },
   "outputs": [
    {
     "name": "stdout",
     "output_type": "stream",
     "text": [
      "[\n",
      "    {\n",
      "        \"desc\": \"Master of Life\",\n",
      "        \"filename\": \"titanic.csv\",\n",
      "        \"id\": \"0\"\n",
      "    },\n",
      "    {\n",
      "        \"desc\": \"So many flowers\",\n",
      "        \"filename\": \"iris.csv\",\n",
      "        \"id\": \"1\"\n",
      "    },\n",
      "    {\n",
      "        \"desc\": \"Gotta catch 'em all!\",\n",
      "        \"filename\": \"pokemon.csv\",\n",
      "        \"id\": \"2\"\n",
      "    },\n",
      "    {\n",
      "        \"desc\": \"Live and let live\",\n",
      "        \"filename\": \"boston.csv\",\n",
      "        \"id\": \"3\"\n",
      "    }\n",
      "]\n"
     ]
    }
   ],
   "source": [
    "# GET /datasets\n",
    "\n",
    "response_dict(datasets, 'application/json')"
   ]
  },
  {
   "cell_type": "code",
   "execution_count": 16,
   "metadata": {
    "collapsed": false,
    "deletable": true,
    "editable": true
   },
   "outputs": [
    {
     "name": "stdout",
     "output_type": "stream",
     "text": [
      "{\"status\": 200, \"headers\": {\"Content-Type\": \"application/json\"}}\n"
     ]
    }
   ],
   "source": [
    "# ResponseInfo GET /datasets\n",
    "\n",
    "response_meta()"
   ]
  },
  {
   "cell_type": "code",
   "execution_count": 17,
   "metadata": {
    "collapsed": false,
    "deletable": true,
    "editable": true
   },
   "outputs": [
    {
     "name": "stdout",
     "output_type": "stream",
     "text": [
      "\"\"\n"
     ]
    }
   ],
   "source": [
    "# GET /datasets/:id\n",
    "\n",
    "request = json.loads(REQUEST)\n",
    "dataset_id = request['path'].get('id')\n",
    "\n",
    "success = load_dataset(dataset_id)\n",
    "\n",
    "if not success:\n",
    "    response_dict('', 'application/json')\n",
    "else:\n",
    "    response_dict(numpy_tojson(df_meta), 'application/json')"
   ]
  },
  {
   "cell_type": "code",
   "execution_count": 18,
   "metadata": {
    "collapsed": false,
    "deletable": true,
    "editable": true
   },
   "outputs": [
    {
     "name": "stdout",
     "output_type": "stream",
     "text": [
      "{\"status\": 404, \"headers\": {\"Content-Type\": \"application/json\"}}\n"
     ]
    }
   ],
   "source": [
    "# ResponseInfo GET /datasets/:id\n",
    "\n",
    "status = 404 if not df_meta['id'] else 200\n",
    "response_meta(status)"
   ]
  },
  {
   "cell_type": "code",
   "execution_count": 19,
   "metadata": {
    "collapsed": false,
    "deletable": true,
    "editable": true
   },
   "outputs": [
    {
     "data": {
      "text/plain": [
       "{'desc': '', 'file': {}, 'id': '', 'name': '', 'vars': []}"
      ]
     },
     "execution_count": 19,
     "metadata": {},
     "output_type": "execute_result"
    }
   ],
   "source": [
    "df_meta"
   ]
  },
  {
   "cell_type": "code",
   "execution_count": 20,
   "metadata": {
    "collapsed": false,
    "deletable": true,
    "editable": true
   },
   "outputs": [
    {
     "name": "stdout",
     "output_type": "stream",
     "text": [
      "{\n",
      "    \"ds\": {\n",
      "        \"cols\": 6,\n",
      "        \"desc\": \"So many flowers\",\n",
      "        \"dims\": 2,\n",
      "        \"file\": {\n",
      "            \"encoding\": {\n",
      "                \"confidence\": 1.0,\n",
      "                \"encoding\": \"ascii\"\n",
      "            },\n",
      "            \"name\": \"iris.csv\",\n",
      "            \"path\": \"./datasets/iris.csv\",\n",
      "            \"size\": \"4.7KB\"\n",
      "        },\n",
      "        \"id\": \"1\",\n",
      "        \"na\": {\n",
      "            \"cols\": 0,\n",
      "            \"rows\": 0\n",
      "        },\n",
      "        \"name\": \"Iris\",\n",
      "        \"rows\": 150,\n",
      "        \"vars\": [\n",
      "            {\n",
      "                \"alias\": \"unnamed0\",\n",
      "                \"id\": \"0\",\n",
      "                \"name\": \"Unnamed: 0\",\n",
      "                \"type\": {\n",
      "                    \"cat\": false,\n",
      "                    \"dtype\": \"long\",\n",
      "                    \"infinite\": 0,\n",
      "                    \"integer\": 150,\n",
      "                    \"nan\": 0,\n",
      "                    \"quality\": 1.0,\n",
      "                    \"real\": 0,\n",
      "                    \"string\": 0,\n",
      "                    \"tcoerce\": \"integer\",\n",
      "                    \"tpurity\": 1.0,\n",
      "                    \"unique\": 150,\n",
      "                    \"valid\": 150,\n",
      "                    \"vtype\": \"ordinal\",\n",
      "                    \"zero\": 0\n",
      "                }\n",
      "            },\n",
      "            {\n",
      "                \"alias\": \"sepal.length\",\n",
      "                \"id\": \"1\",\n",
      "                \"name\": \"Sepal.Length\",\n",
      "                \"type\": {\n",
      "                    \"cat\": false,\n",
      "                    \"dtype\": \"double\",\n",
      "                    \"infinite\": 0,\n",
      "                    \"integer\": 17,\n",
      "                    \"nan\": 0,\n",
      "                    \"quality\": 0.89,\n",
      "                    \"real\": 133,\n",
      "                    \"string\": 0,\n",
      "                    \"tcoerce\": \"real\",\n",
      "                    \"tpurity\": 0.89,\n",
      "                    \"unique\": 35,\n",
      "                    \"valid\": 150,\n",
      "                    \"vtype\": \"continuous\",\n",
      "                    \"zero\": 0\n",
      "                }\n",
      "            },\n",
      "            {\n",
      "                \"alias\": \"sepal.width\",\n",
      "                \"id\": \"2\",\n",
      "                \"name\": \"Sepal.Width\",\n",
      "                \"type\": {\n",
      "                    \"cat\": false,\n",
      "                    \"dtype\": \"double\",\n",
      "                    \"infinite\": 0,\n",
      "                    \"integer\": 28,\n",
      "                    \"nan\": 0,\n",
      "                    \"quality\": 0.81,\n",
      "                    \"real\": 122,\n",
      "                    \"string\": 0,\n",
      "                    \"tcoerce\": \"real\",\n",
      "                    \"tpurity\": 0.81,\n",
      "                    \"unique\": 23,\n",
      "                    \"valid\": 150,\n",
      "                    \"vtype\": \"continuous\",\n",
      "                    \"zero\": 0\n",
      "                }\n",
      "            },\n",
      "            {\n",
      "                \"alias\": \"petal.length\",\n",
      "                \"id\": \"3\",\n",
      "                \"name\": \"Petal.Length\",\n",
      "                \"type\": {\n",
      "                    \"cat\": false,\n",
      "                    \"dtype\": \"double\",\n",
      "                    \"infinite\": 0,\n",
      "                    \"integer\": 13,\n",
      "                    \"nan\": 0,\n",
      "                    \"quality\": 0.91,\n",
      "                    \"real\": 137,\n",
      "                    \"string\": 0,\n",
      "                    \"tcoerce\": \"real\",\n",
      "                    \"tpurity\": 0.91,\n",
      "                    \"unique\": 43,\n",
      "                    \"valid\": 150,\n",
      "                    \"vtype\": \"continuous\",\n",
      "                    \"zero\": 0\n",
      "                }\n",
      "            },\n",
      "            {\n",
      "                \"alias\": \"petal.width\",\n",
      "                \"id\": \"4\",\n",
      "                \"name\": \"Petal.Width\",\n",
      "                \"type\": {\n",
      "                    \"cat\": false,\n",
      "                    \"dtype\": \"double\",\n",
      "                    \"infinite\": 0,\n",
      "                    \"integer\": 13,\n",
      "                    \"nan\": 0,\n",
      "                    \"quality\": 0.91,\n",
      "                    \"real\": 137,\n",
      "                    \"string\": 0,\n",
      "                    \"tcoerce\": \"real\",\n",
      "                    \"tpurity\": 0.91,\n",
      "                    \"unique\": 22,\n",
      "                    \"valid\": 150,\n",
      "                    \"vtype\": \"continuous\",\n",
      "                    \"zero\": 0\n",
      "                }\n",
      "            },\n",
      "            {\n",
      "                \"alias\": \"species\",\n",
      "                \"id\": \"5\",\n",
      "                \"name\": \"Species\",\n",
      "                \"type\": {\n",
      "                    \"cat\": true,\n",
      "                    \"dtype\": \"object\",\n",
      "                    \"infinite\": 0,\n",
      "                    \"integer\": 0,\n",
      "                    \"nan\": 0,\n",
      "                    \"quality\": 1.0,\n",
      "                    \"real\": 0,\n",
      "                    \"string\": 150,\n",
      "                    \"tcoerce\": \"string\",\n",
      "                    \"tpurity\": 1.0,\n",
      "                    \"unique\": 3,\n",
      "                    \"valid\": 150,\n",
      "                    \"vtype\": \"categorical\",\n",
      "                    \"zero\": 0\n",
      "                }\n",
      "            }\n",
      "        ]\n",
      "    },\n",
      "    \"vars\": [\n",
      "        {\n",
      "            \"alias\": \"unnamed0\",\n",
      "            \"id\": \"0\",\n",
      "            \"name\": \"Unnamed: 0\",\n",
      "            \"sample\": [\n",
      "                \"125\",\n",
      "                \"83\",\n",
      "                \"30\",\n",
      "                \"41\",\n",
      "                \"119\",\n",
      "                \"61\",\n",
      "                \"56\",\n",
      "                \"16\",\n",
      "                \"17\",\n",
      "                \"57\"\n",
      "            ],\n",
      "            \"type\": {\n",
      "                \"cat\": false,\n",
      "                \"dtype\": \"long\",\n",
      "                \"infinite\": 0,\n",
      "                \"integer\": 150,\n",
      "                \"nan\": 0,\n",
      "                \"quality\": 1.0,\n",
      "                \"real\": 0,\n",
      "                \"string\": 0,\n",
      "                \"tcoerce\": \"integer\",\n",
      "                \"tpurity\": 1.0,\n",
      "                \"unique\": 150,\n",
      "                \"valid\": 150,\n",
      "                \"vtype\": \"ordinal\",\n",
      "                \"zero\": 0\n",
      "            }\n",
      "        },\n",
      "        {\n",
      "            \"alias\": \"sepal.length\",\n",
      "            \"id\": \"1\",\n",
      "            \"name\": \"Sepal.Length\",\n",
      "            \"sample\": [\n",
      "                \"5.6\",\n",
      "                \"5.1\",\n",
      "                \"6.1\",\n",
      "                \"6.5\",\n",
      "                \"7.1\",\n",
      "                \"5.7\",\n",
      "                \"4.9\",\n",
      "                \"6.0\",\n",
      "                \"5.4\",\n",
      "                \"6.8\"\n",
      "            ],\n",
      "            \"type\": {\n",
      "                \"cat\": false,\n",
      "                \"dtype\": \"double\",\n",
      "                \"infinite\": 0,\n",
      "                \"integer\": 17,\n",
      "                \"nan\": 0,\n",
      "                \"quality\": 0.89,\n",
      "                \"real\": 133,\n",
      "                \"string\": 0,\n",
      "                \"tcoerce\": \"real\",\n",
      "                \"tpurity\": 0.89,\n",
      "                \"unique\": 35,\n",
      "                \"valid\": 150,\n",
      "                \"vtype\": \"continuous\",\n",
      "                \"zero\": 0\n",
      "            }\n",
      "        },\n",
      "        {\n",
      "            \"alias\": \"sepal.width\",\n",
      "            \"id\": \"2\",\n",
      "            \"name\": \"Sepal.Width\",\n",
      "            \"sample\": [\n",
      "                \"2.7\",\n",
      "                \"2.8\",\n",
      "                \"3.8\",\n",
      "                \"2.9\",\n",
      "                \"2.9\",\n",
      "                \"2.7\",\n",
      "                \"2.7\",\n",
      "                \"2.8\",\n",
      "                \"3.0\",\n",
      "                \"3.2\"\n",
      "            ],\n",
      "            \"type\": {\n",
      "                \"cat\": false,\n",
      "                \"dtype\": \"double\",\n",
      "                \"infinite\": 0,\n",
      "                \"integer\": 28,\n",
      "                \"nan\": 0,\n",
      "                \"quality\": 0.81,\n",
      "                \"real\": 122,\n",
      "                \"string\": 0,\n",
      "                \"tcoerce\": \"real\",\n",
      "                \"tpurity\": 0.81,\n",
      "                \"unique\": 23,\n",
      "                \"valid\": 150,\n",
      "                \"vtype\": \"continuous\",\n",
      "                \"zero\": 0\n",
      "            }\n",
      "        },\n",
      "        {\n",
      "            \"alias\": \"petal.length\",\n",
      "            \"id\": \"3\",\n",
      "            \"name\": \"Petal.Length\",\n",
      "            \"sample\": [\n",
      "                \"6.0\",\n",
      "                \"6.1\",\n",
      "                \"1.9\",\n",
      "                \"1.4\",\n",
      "                \"6.3\",\n",
      "                \"4.1\",\n",
      "                \"1.9\",\n",
      "                \"4.7\",\n",
      "                \"1.4\",\n",
      "                \"4.6\"\n",
      "            ],\n",
      "            \"type\": {\n",
      "                \"cat\": false,\n",
      "                \"dtype\": \"double\",\n",
      "                \"infinite\": 0,\n",
      "                \"integer\": 13,\n",
      "                \"nan\": 0,\n",
      "                \"quality\": 0.91,\n",
      "                \"real\": 137,\n",
      "                \"string\": 0,\n",
      "                \"tcoerce\": \"real\",\n",
      "                \"tpurity\": 0.91,\n",
      "                \"unique\": 43,\n",
      "                \"valid\": 150,\n",
      "                \"vtype\": \"continuous\",\n",
      "                \"zero\": 0\n",
      "            }\n",
      "        },\n",
      "        {\n",
      "            \"alias\": \"petal.width\",\n",
      "            \"id\": \"4\",\n",
      "            \"name\": \"Petal.Width\",\n",
      "            \"sample\": [\n",
      "                \"1.6\",\n",
      "                \"0.4\",\n",
      "                \"0.2\",\n",
      "                \"1.8\",\n",
      "                \"1.1\",\n",
      "                \"0.2\",\n",
      "                \"2.1\",\n",
      "                \"1.2\",\n",
      "                \"1.9\",\n",
      "                \"2.1\"\n",
      "            ],\n",
      "            \"type\": {\n",
      "                \"cat\": false,\n",
      "                \"dtype\": \"double\",\n",
      "                \"infinite\": 0,\n",
      "                \"integer\": 13,\n",
      "                \"nan\": 0,\n",
      "                \"quality\": 0.91,\n",
      "                \"real\": 137,\n",
      "                \"string\": 0,\n",
      "                \"tcoerce\": \"real\",\n",
      "                \"tpurity\": 0.91,\n",
      "                \"unique\": 22,\n",
      "                \"valid\": 150,\n",
      "                \"vtype\": \"continuous\",\n",
      "                \"zero\": 0\n",
      "            }\n",
      "        },\n",
      "        {\n",
      "            \"alias\": \"species\",\n",
      "            \"id\": \"5\",\n",
      "            \"name\": \"Species\",\n",
      "            \"sample\": [\n",
      "                \"versicolor\",\n",
      "                \"versicolor\",\n",
      "                \"versicolor\",\n",
      "                \"versicolor\",\n",
      "                \"virginica\",\n",
      "                \"setosa\",\n",
      "                \"versicolor\",\n",
      "                \"virginica\",\n",
      "                \"virginica\",\n",
      "                \"setosa\"\n",
      "            ],\n",
      "            \"type\": {\n",
      "                \"cat\": true,\n",
      "                \"dtype\": \"object\",\n",
      "                \"infinite\": 0,\n",
      "                \"integer\": 0,\n",
      "                \"nan\": 0,\n",
      "                \"quality\": 1.0,\n",
      "                \"real\": 0,\n",
      "                \"string\": 150,\n",
      "                \"tcoerce\": \"string\",\n",
      "                \"tpurity\": 1.0,\n",
      "                \"unique\": 3,\n",
      "                \"valid\": 150,\n",
      "                \"vtype\": \"categorical\",\n",
      "                \"zero\": 0\n",
      "            }\n",
      "        }\n",
      "    ]\n",
      "}\n"
     ]
    }
   ],
   "source": [
    "# GET /datasets/:id/stats\n",
    "\n",
    "if not GATEWAY:\n",
    "    REQUEST = json.dumps({'path': {'id':'1'}})\n",
    "\n",
    "request = json.loads(REQUEST)\n",
    "dataset_id = request['path'].get('id')\n",
    "\n",
    "success = load_dataset(dataset_id)\n",
    "\n",
    "if not success:\n",
    "    response_dict('', 'application/json')\n",
    "else:\n",
    "\n",
    "    #cell data\n",
    "    shape = df.shape\n",
    "\n",
    "    dv = []\n",
    "\n",
    "    #extract types\n",
    "    for item in df_meta['vars']:\n",
    "        sr = df[item['alias']]\n",
    "        dv.append(\n",
    "            {\n",
    "                'id'    : item['id'],\n",
    "                'alias' : item['alias'],\n",
    "                'name'  : item['name'],\n",
    "                'type'  : get_typestats(sr),\n",
    "                'sample': [str(x) for x in sr.sample(n=10).tolist()]\n",
    "            }\n",
    "        )\n",
    "    \n",
    "    ds = copy.deepcopy(df_meta)\n",
    "    ds.update({\n",
    "        'dims': len(shape),\n",
    "        'rows': shape[0],\n",
    "        'cols': shape[1],\n",
    "        'na': {\n",
    "            'cols': rows_na_any(df),\n",
    "            'rows': col_na_any(df)\n",
    "        }\n",
    "    })\n",
    "    \n",
    "    d = {\n",
    "        'ds'  : ds,\n",
    "        'vars': dv\n",
    "    }\n",
    "\n",
    "    #output\n",
    "    response_dict(numpy_tojson(d), 'application/json')"
   ]
  },
  {
   "cell_type": "code",
   "execution_count": 21,
   "metadata": {
    "collapsed": false,
    "deletable": true,
    "editable": true
   },
   "outputs": [
    {
     "name": "stdout",
     "output_type": "stream",
     "text": [
      "{\"status\": 200, \"headers\": {\"Content-Type\": \"application/json\"}}\n"
     ]
    }
   ],
   "source": [
    "# ResponseInfo GET /datasets/:id/stats\n",
    "\n",
    "status = 404 if not df_meta['id'] else 200\n",
    "response_meta()"
   ]
  },
  {
   "cell_type": "code",
   "execution_count": 22,
   "metadata": {
    "collapsed": false,
    "deletable": true,
    "editable": true
   },
   "outputs": [],
   "source": [
    "def describe(sr):\n",
    "    d = dict(sr.describe())\n",
    "    if '25%' in d.keys() : d['q25'] = d.pop('25%')\n",
    "    if '50%' in d.keys() : d['q50'] = d.pop('50%')\n",
    "    if '75%' in d.keys() : d['q75'] = d.pop('75%')\n",
    "    \n",
    "    try :\n",
    "        d['skew'] = sr.skew()\n",
    "        d['kurt'] = sr.kurt()\n",
    "        d['mean'] = sr.mean()\n",
    "    except:\n",
    "        pass\n",
    "        \n",
    "    return d\n",
    "\n",
    "def get_stats(sr, vtype):\n",
    "    nan     = sum(sr.isnull())\n",
    "    count   = len(sr)\n",
    "    valid   = count-nan\n",
    "    \n",
    "    sr = sr[sr.notnull()]\n",
    "    if vtype=='categorical':\n",
    "        sr = sr.apply(lambda x: str(x))\n",
    "        d = describe(sr)\n",
    "        d.update({\n",
    "            'categories': list(sr.unique()),\n",
    "            'histogram': [{'v': str(x), 'c': y ,'p':y/valid} for x,y in sr.value_counts().items()]\n",
    "        })\n",
    "    elif vtype=='descrete' or vtype=='ordinal' or vtype=='continuos':\n",
    "        d = describe(sr)\n",
    "        \n",
    "        b = matplotlib.cbook.boxplot_stats(sr)\n",
    "        iqr  = b[0]['iqr']\n",
    "        w_hi = b[0]['whishi']\n",
    "        w_lo = b[0]['whislo']\n",
    "\n",
    "        a_hi = sr[sr>w_hi].count()\n",
    "        a_lo = sr[sr<w_lo].count()\n",
    "\n",
    "        d.update({\n",
    "            'iqr'      : iqr,\n",
    "            'whiskers' : { 'hi':w_hi, 'lo':w_lo },\n",
    "            'anomalies': { 'hi':a_hi, 'lo':a_lo }\n",
    "        })\n",
    "        \n",
    "\n",
    "        d.update({\n",
    "            'histogram': [{'v': x, 'c': y ,'p':y/valid} for x,y in sr.value_counts(bins=20, sort=False).items()]\n",
    "        })\n",
    "    else:\n",
    "        sr = sr.apply(lambda x: str(x))\n",
    "        d = describe(sr)\n",
    "    return d"
   ]
  },
  {
   "cell_type": "code",
   "execution_count": 23,
   "metadata": {
    "collapsed": false,
    "deletable": true,
    "editable": true
   },
   "outputs": [
    {
     "name": "stdout",
     "output_type": "stream",
     "text": [
      "{\n",
      "    \"ds\": {\n",
      "        \"desc\": \"Master of Life\",\n",
      "        \"file\": {\n",
      "            \"encoding\": {\n",
      "                \"confidence\": 1.0,\n",
      "                \"encoding\": \"ascii\"\n",
      "            },\n",
      "            \"name\": \"titanic.csv\",\n",
      "            \"path\": \"./datasets/titanic.csv\",\n",
      "            \"size\": \"99.4KB\"\n",
      "        },\n",
      "        \"id\": \"0\",\n",
      "        \"name\": \"Titanic\",\n",
      "        \"vars\": [\n",
      "            {\n",
      "                \"alias\": \"pclass\",\n",
      "                \"id\": \"0\",\n",
      "                \"name\": \"pclass\",\n",
      "                \"type\": {\n",
      "                    \"cat\": true,\n",
      "                    \"dtype\": \"double\",\n",
      "                    \"infinite\": 0,\n",
      "                    \"integer\": 1309,\n",
      "                    \"nan\": 1,\n",
      "                    \"quality\": 1.0,\n",
      "                    \"real\": 0,\n",
      "                    \"string\": 0,\n",
      "                    \"tcoerce\": \"integer\",\n",
      "                    \"tpurity\": 1.0,\n",
      "                    \"unique\": 3,\n",
      "                    \"valid\": 1309,\n",
      "                    \"vtype\": \"categorical\",\n",
      "                    \"zero\": 0\n",
      "                }\n",
      "            },\n",
      "            {\n",
      "                \"alias\": \"survived\",\n",
      "                \"id\": \"1\",\n",
      "                \"name\": \"survived\",\n",
      "                \"type\": {\n",
      "                    \"cat\": true,\n",
      "                    \"dtype\": \"double\",\n",
      "                    \"infinite\": 0,\n",
      "                    \"integer\": 1309,\n",
      "                    \"nan\": 1,\n",
      "                    \"quality\": 1.0,\n",
      "                    \"real\": 0,\n",
      "                    \"string\": 0,\n",
      "                    \"tcoerce\": \"integer\",\n",
      "                    \"tpurity\": 1.0,\n",
      "                    \"unique\": 2,\n",
      "                    \"valid\": 1309,\n",
      "                    \"vtype\": \"categorical\",\n",
      "                    \"zero\": 809\n",
      "                }\n",
      "            },\n",
      "            {\n",
      "                \"alias\": \"name\",\n",
      "                \"id\": \"2\",\n",
      "                \"name\": \"name\",\n",
      "                \"type\": {\n",
      "                    \"cat\": false,\n",
      "                    \"dtype\": \"object\",\n",
      "                    \"infinite\": 0,\n",
      "                    \"integer\": 0,\n",
      "                    \"nan\": 1,\n",
      "                    \"quality\": 1.0,\n",
      "                    \"real\": 0,\n",
      "                    \"string\": 1309,\n",
      "                    \"tcoerce\": \"string\",\n",
      "                    \"tpurity\": 1.0,\n",
      "                    \"unique\": 1307,\n",
      "                    \"valid\": 1309,\n",
      "                    \"vtype\": \"unstructured\",\n",
      "                    \"zero\": 0\n",
      "                }\n",
      "            },\n",
      "            {\n",
      "                \"alias\": \"sex\",\n",
      "                \"id\": \"3\",\n",
      "                \"name\": \"sex\",\n",
      "                \"type\": {\n",
      "                    \"cat\": true,\n",
      "                    \"dtype\": \"object\",\n",
      "                    \"infinite\": 0,\n",
      "                    \"integer\": 0,\n",
      "                    \"nan\": 1,\n",
      "                    \"quality\": 1.0,\n",
      "                    \"real\": 0,\n",
      "                    \"string\": 1309,\n",
      "                    \"tcoerce\": \"string\",\n",
      "                    \"tpurity\": 1.0,\n",
      "                    \"unique\": 2,\n",
      "                    \"valid\": 1309,\n",
      "                    \"vtype\": \"categorical\",\n",
      "                    \"zero\": 0\n",
      "                }\n",
      "            },\n",
      "            {\n",
      "                \"alias\": \"age\",\n",
      "                \"id\": \"4\",\n",
      "                \"name\": \"age\",\n",
      "                \"type\": {\n",
      "                    \"cat\": true,\n",
      "                    \"dtype\": \"double\",\n",
      "                    \"infinite\": 0,\n",
      "                    \"integer\": 1034,\n",
      "                    \"nan\": 264,\n",
      "                    \"quality\": 0.79,\n",
      "                    \"real\": 12,\n",
      "                    \"string\": 0,\n",
      "                    \"tcoerce\": \"integer\",\n",
      "                    \"tpurity\": 0.99,\n",
      "                    \"unique\": 76,\n",
      "                    \"valid\": 1046,\n",
      "                    \"vtype\": \"categorical\",\n",
      "                    \"zero\": 0\n",
      "                }\n",
      "            },\n",
      "            {\n",
      "                \"alias\": \"sibsp\",\n",
      "                \"id\": \"5\",\n",
      "                \"name\": \"sibsp\",\n",
      "                \"type\": {\n",
      "                    \"cat\": true,\n",
      "                    \"dtype\": \"double\",\n",
      "                    \"infinite\": 0,\n",
      "                    \"integer\": 1309,\n",
      "                    \"nan\": 1,\n",
      "                    \"quality\": 1.0,\n",
      "                    \"real\": 0,\n",
      "                    \"string\": 0,\n",
      "                    \"tcoerce\": \"integer\",\n",
      "                    \"tpurity\": 1.0,\n",
      "                    \"unique\": 7,\n",
      "                    \"valid\": 1309,\n",
      "                    \"vtype\": \"categorical\",\n",
      "                    \"zero\": 891\n",
      "                }\n",
      "            },\n",
      "            {\n",
      "                \"alias\": \"parch\",\n",
      "                \"id\": \"6\",\n",
      "                \"name\": \"parch\",\n",
      "                \"type\": {\n",
      "                    \"cat\": true,\n",
      "                    \"dtype\": \"double\",\n",
      "                    \"infinite\": 0,\n",
      "                    \"integer\": 1309,\n",
      "                    \"nan\": 1,\n",
      "                    \"quality\": 1.0,\n",
      "                    \"real\": 0,\n",
      "                    \"string\": 0,\n",
      "                    \"tcoerce\": \"integer\",\n",
      "                    \"tpurity\": 1.0,\n",
      "                    \"unique\": 8,\n",
      "                    \"valid\": 1309,\n",
      "                    \"vtype\": \"categorical\",\n",
      "                    \"zero\": 1002\n",
      "                }\n",
      "            },\n",
      "            {\n",
      "                \"alias\": \"ticket\",\n",
      "                \"id\": \"7\",\n",
      "                \"name\": \"ticket\",\n",
      "                \"type\": {\n",
      "                    \"cat\": false,\n",
      "                    \"dtype\": \"object\",\n",
      "                    \"infinite\": 0,\n",
      "                    \"integer\": 957,\n",
      "                    \"nan\": 1,\n",
      "                    \"quality\": 0.73,\n",
      "                    \"real\": 0,\n",
      "                    \"string\": 352,\n",
      "                    \"tcoerce\": \"string\",\n",
      "                    \"tpurity\": 0.73,\n",
      "                    \"unique\": 929,\n",
      "                    \"valid\": 1309,\n",
      "                    \"vtype\": \"unstructured\",\n",
      "                    \"zero\": 0\n",
      "                }\n",
      "            },\n",
      "            {\n",
      "                \"alias\": \"fare\",\n",
      "                \"id\": \"8\",\n",
      "                \"name\": \"fare\",\n",
      "                \"type\": {\n",
      "                    \"cat\": true,\n",
      "                    \"dtype\": \"double\",\n",
      "                    \"infinite\": 0,\n",
      "                    \"integer\": 444,\n",
      "                    \"nan\": 2,\n",
      "                    \"quality\": 0.66,\n",
      "                    \"real\": 864,\n",
      "                    \"string\": 0,\n",
      "                    \"tcoerce\": \"real\",\n",
      "                    \"tpurity\": 0.66,\n",
      "                    \"unique\": 121,\n",
      "                    \"valid\": 1308,\n",
      "                    \"vtype\": \"categorical\",\n",
      "                    \"zero\": 36\n",
      "                }\n",
      "            },\n",
      "            {\n",
      "                \"alias\": \"cabin\",\n",
      "                \"id\": \"9\",\n",
      "                \"name\": \"cabin\",\n",
      "                \"type\": {\n",
      "                    \"cat\": false,\n",
      "                    \"dtype\": \"object\",\n",
      "                    \"infinite\": 0,\n",
      "                    \"integer\": 0,\n",
      "                    \"nan\": 1015,\n",
      "                    \"quality\": 0.23,\n",
      "                    \"real\": 0,\n",
      "                    \"string\": 295,\n",
      "                    \"tcoerce\": \"string\",\n",
      "                    \"tpurity\": 1.0,\n",
      "                    \"unique\": 186,\n",
      "                    \"valid\": 295,\n",
      "                    \"vtype\": \"unstructured\",\n",
      "                    \"zero\": 0\n",
      "                }\n",
      "            },\n",
      "            {\n",
      "                \"alias\": \"embarked\",\n",
      "                \"id\": \"10\",\n",
      "                \"name\": \"embarked\",\n",
      "                \"type\": {\n",
      "                    \"cat\": true,\n",
      "                    \"dtype\": \"object\",\n",
      "                    \"infinite\": 0,\n",
      "                    \"integer\": 0,\n",
      "                    \"nan\": 3,\n",
      "                    \"quality\": 1.0,\n",
      "                    \"real\": 0,\n",
      "                    \"string\": 1307,\n",
      "                    \"tcoerce\": \"string\",\n",
      "                    \"tpurity\": 1.0,\n",
      "                    \"unique\": 3,\n",
      "                    \"valid\": 1307,\n",
      "                    \"vtype\": \"categorical\",\n",
      "                    \"zero\": 0\n",
      "                }\n",
      "            },\n",
      "            {\n",
      "                \"alias\": \"boat\",\n",
      "                \"id\": \"11\",\n",
      "                \"name\": \"boat\",\n",
      "                \"type\": {\n",
      "                    \"cat\": true,\n",
      "                    \"dtype\": \"object\",\n",
      "                    \"infinite\": 0,\n",
      "                    \"integer\": 398,\n",
      "                    \"nan\": 824,\n",
      "                    \"quality\": 0.3,\n",
      "                    \"real\": 0,\n",
      "                    \"string\": 88,\n",
      "                    \"tcoerce\": \"string\",\n",
      "                    \"tpurity\": 0.82,\n",
      "                    \"unique\": 27,\n",
      "                    \"valid\": 486,\n",
      "                    \"vtype\": \"categorical\",\n",
      "                    \"zero\": 0\n",
      "                }\n",
      "            },\n",
      "            {\n",
      "                \"alias\": \"body\",\n",
      "                \"id\": \"12\",\n",
      "                \"name\": \"body\",\n",
      "                \"type\": {\n",
      "                    \"cat\": false,\n",
      "                    \"dtype\": \"double\",\n",
      "                    \"infinite\": 0,\n",
      "                    \"integer\": 121,\n",
      "                    \"nan\": 1189,\n",
      "                    \"quality\": 0.09,\n",
      "                    \"real\": 0,\n",
      "                    \"string\": 0,\n",
      "                    \"tcoerce\": \"integer\",\n",
      "                    \"tpurity\": 1.0,\n",
      "                    \"unique\": 121,\n",
      "                    \"valid\": 121,\n",
      "                    \"vtype\": \"ordinal\",\n",
      "                    \"zero\": 0\n",
      "                }\n",
      "            },\n",
      "            {\n",
      "                \"alias\": \"home.dest\",\n",
      "                \"id\": \"13\",\n",
      "                \"name\": \"home.dest\",\n",
      "                \"type\": {\n",
      "                    \"cat\": false,\n",
      "                    \"dtype\": \"object\",\n",
      "                    \"infinite\": 0,\n",
      "                    \"integer\": 0,\n",
      "                    \"nan\": 565,\n",
      "                    \"quality\": 0.57,\n",
      "                    \"real\": 0,\n",
      "                    \"string\": 745,\n",
      "                    \"tcoerce\": \"string\",\n",
      "                    \"tpurity\": 1.0,\n",
      "                    \"unique\": 369,\n",
      "                    \"valid\": 745,\n",
      "                    \"vtype\": \"unstructured\",\n",
      "                    \"zero\": 0\n",
      "                }\n",
      "            }\n",
      "        ]\n",
      "    },\n",
      "    \"nav\": {\n",
      "        \"next\": 8,\n",
      "        \"prev\": 6\n",
      "    },\n",
      "    \"var\": {\n",
      "        \"alias\": \"ticket\",\n",
      "        \"id\": \"7\",\n",
      "        \"name\": \"ticket\",\n",
      "        \"sample\": [\n",
      "            \"113789\",\n",
      "            \"2672\",\n",
      "            \"376566\",\n",
      "            \"113059\",\n",
      "            \"3474\",\n",
      "            \"W./C. 6608\",\n",
      "            \"19924\",\n",
      "            \"S.O.C. 14879\",\n",
      "            \"330919\",\n",
      "            \"A./5. 3235\",\n",
      "            \"7540\",\n",
      "            \"2651\",\n",
      "            \"349243\",\n",
      "            \"347062\",\n",
      "            \"PC 17755\",\n",
      "            \"370377\",\n",
      "            \"367232\",\n",
      "            \"24065\",\n",
      "            \"220844\",\n",
      "            \"248727\",\n",
      "            \"350025\",\n",
      "            \"PC 17604\",\n",
      "            \"382653\",\n",
      "            \"237216\",\n",
      "            \"347082\"\n",
      "        ],\n",
      "        \"stats\": {\n",
      "            \"count\": 1309,\n",
      "            \"freq\": 11,\n",
      "            \"top\": \"CA. 2343\",\n",
      "            \"unique\": 929\n",
      "        },\n",
      "        \"type\": {\n",
      "            \"cat\": false,\n",
      "            \"dtype\": \"object\",\n",
      "            \"infinite\": 0,\n",
      "            \"integer\": 957,\n",
      "            \"nan\": 1,\n",
      "            \"quality\": 0.73,\n",
      "            \"real\": 0,\n",
      "            \"string\": 352,\n",
      "            \"tcoerce\": \"string\",\n",
      "            \"tpurity\": 0.73,\n",
      "            \"unique\": 929,\n",
      "            \"valid\": 1309,\n",
      "            \"vtype\": \"unstructured\",\n",
      "            \"zero\": 0\n",
      "        }\n",
      "    }\n",
      "}\n"
     ]
    }
   ],
   "source": [
    "# GET /datasets/:id/variables/:vid\n",
    "\n",
    "if not GATEWAY:\n",
    "    REQUEST = json.dumps({'path': {'id':'0', 'vid':'7'}})\n",
    "\n",
    "request = json.loads(REQUEST)\n",
    "id = request['path'].get('id')\n",
    "vid = request['path'].get('vid')\n",
    "\n",
    "success = load_dataset(id)\n",
    "\n",
    "if not success:\n",
    "    response_dict('', 'application/json')\n",
    "else:\n",
    "\n",
    "    dv = {\n",
    "        'id':vid\n",
    "    }\n",
    "\n",
    "    #extract types\n",
    "    for item in df_meta['vars']:\n",
    "        if vid == item['id']:\n",
    "            sr = df[item['alias']]\n",
    "            vardet = get_typestats(sr)\n",
    "            dv.update(\n",
    "                {\n",
    "                    'id'    : item['id'],\n",
    "                    'alias' : item['alias'],\n",
    "                    'name'  : item['name'],\n",
    "                    'type'  : vardet,\n",
    "                    'sample': [str(x) for x in sr.sample(n=25).tolist()],\n",
    "                    'stats' : get_stats(sr, vardet['vtype'])\n",
    "                }\n",
    "            )\n",
    "            break\n",
    "    \n",
    "    id_num = int(float(vid))\n",
    "    nav_prev = id_num-1 if 0 <= (id_num-1) else None\n",
    "    nav_next = id_num+1 if (id_num+1)< len(df_meta['vars']) else None\n",
    "    \n",
    "    \n",
    "    ds = copy.deepcopy(df_meta)\n",
    "    \n",
    "    d = {\n",
    "        'ds'  : ds,\n",
    "        'var': dv,\n",
    "        'nav': {\n",
    "            'prev':nav_prev,\n",
    "            'next':nav_next\n",
    "        }\n",
    "    }\n",
    "\n",
    "    #output\n",
    "    response_dict(numpy_tojson(d), 'application/json')"
   ]
  },
  {
   "cell_type": "code",
   "execution_count": 24,
   "metadata": {
    "collapsed": false,
    "deletable": true,
    "editable": true
   },
   "outputs": [
    {
     "name": "stdout",
     "output_type": "stream",
     "text": [
      "{\"status\": 200, \"headers\": {\"Content-Type\": \"application/json\"}}\n"
     ]
    }
   ],
   "source": [
    "# ResponseInfo GET /datasets/:id/variables/:vid\n",
    "\n",
    "response_meta()"
   ]
  },
  {
   "cell_type": "code",
   "execution_count": 31,
   "metadata": {
    "collapsed": false,
    "deletable": true,
    "editable": true
   },
   "outputs": [],
   "source": [
    "import IPython\n",
    "\n",
    "def response_png(imgdata=None):\n",
    "    if GATEWAY:\n",
    "        if type(imgdata) == IPython.core.display.Image :\n",
    "            d = imgdata.data\n",
    "        else:\n",
    "            imgdata = io.BytesIO()\n",
    "            plt.savefig(imgdata, format='png')\n",
    "            imgdata.seek(0)  # rewind the data\n",
    "            d = imgdata.read()\n",
    "\n",
    "        data = urllib.parse.quote(base64.b64encode(d))\n",
    "        return response_dict(data, 'application/base64')\n",
    "    else:\n",
    "        if type(imgdata) == IPython.core.display.Image :\n",
    "            return imgdata "
   ]
  },
  {
   "cell_type": "code",
   "execution_count": 32,
   "metadata": {
    "collapsed": false,
    "deletable": true,
    "editable": true
   },
   "outputs": [],
   "source": [
    "def get_seriename(id, vid=None, vtype=None):\n",
    "    success = load_dataset(id)\n",
    "    res= []\n",
    "    if success:\n",
    "        for item in df_meta['vars']:\n",
    "            if vid == item['id'] :\n",
    "                res.append(item['alias'])\n",
    "                continue\n",
    "                \n",
    "            if vtype == item['type']['vtype'] :\n",
    "                res.append(item['alias'])\n",
    "                continue\n",
    "    return res\n",
    "\n",
    "def is_cat(id, vid):\n",
    "    success = load_dataset(id)\n",
    "    if success:\n",
    "        for item in df_meta['vars']:\n",
    "            if vid == item['id']:\n",
    "                return item['type']['cat']\n",
    "    return False\n",
    "\n",
    "def get_serie(id, vid):\n",
    "    colname = get_seriename(id, vid)\n",
    "    return df[colname[0]] if colname else pd.Series([])  "
   ]
  },
  {
   "cell_type": "code",
   "execution_count": 33,
   "metadata": {
    "collapsed": false,
    "deletable": true,
    "editable": true
   },
   "outputs": [
    {
     "data": {
      "text/plain": [
       "'unstructured'"
      ]
     },
     "execution_count": 33,
     "metadata": {},
     "output_type": "execute_result"
    }
   ],
   "source": [
    "sr =  get_serie('0', '2')\n",
    "get_stats(sr,get_typestats(sr)['vtype'])\n",
    "get_typestats(sr)['vtype']"
   ]
  },
  {
   "cell_type": "code",
   "execution_count": 34,
   "metadata": {
    "collapsed": false,
    "deletable": true,
    "editable": true
   },
   "outputs": [
    {
     "data": {
      "image/png": "[encoded data removed]",
      "text/plain": [
       "<matplotlib.figure.Figure at 0x116ab9fd0>"
      ]
     },
     "metadata": {},
     "output_type": "display_data"
    }
   ],
   "source": [
    "# GET /datasets/:id/variables/:vid/charts/1\n",
    "\n",
    "if not GATEWAY:\n",
    "    REQUEST = json.dumps({'path': {'id':'0', 'vid':'2'}})\n",
    "\n",
    "request = json.loads(REQUEST)\n",
    "id = request['path'].get('id')\n",
    "vid = request['path'].get('vid')\n",
    "\n",
    "sr=get_serie(id, vid)\n",
    "vardet = get_typestats(sr)\n",
    "\n",
    "\n",
    "plt.clf()\n",
    "sns.set(style=\"white\")\n",
    "if vardet['vtype']=='categorical':\n",
    "    d = get_stats(sr, vardet['vtype'])['histogram']\n",
    "    dd = pd.DataFrame(d)\n",
    "    s = sns.barplot(x='v', y='c', data=dd)\n",
    "elif vardet['vtype']=='unstructured':\n",
    "    import random\n",
    "    def grey_color_func(word, font_size, position, orientation, random_state=None, **kwargs):\n",
    "        return \"hsl(205, 100%%, %d%%)\" % (80-font_size*2)\n",
    "\n",
    "    text = ' '.join([str(x) for x in sr])\n",
    "    wordcloud = WordCloud(max_font_size=40, max_words=30, relative_scaling=0.2, color_func=grey_color_func, background_color='white').generate(text)\n",
    "    plt.imshow(wordcloud)\n",
    "    plt.axis(\"off\")\n",
    "else :\n",
    "    s = sns.distplot(sr, rug=True, hist=False,color=\"b\")\n",
    "\n",
    "response_png()"
   ]
  },
  {
   "cell_type": "code",
   "execution_count": 35,
   "metadata": {
    "collapsed": false,
    "deletable": true,
    "editable": true
   },
   "outputs": [
    {
     "name": "stdout",
     "output_type": "stream",
     "text": [
      "{\"status\": 200, \"headers\": {\"Content-Type\": \"application/base64\"}}\n"
     ]
    }
   ],
   "source": [
    "# ResponseInfo GET /datasets/:id/variables/:vid/charts/1\n",
    "\n",
    "response_meta(200, 'application/base64')"
   ]
  },
  {
   "cell_type": "code",
   "execution_count": 36,
   "metadata": {
    "collapsed": false,
    "deletable": true,
    "editable": true
   },
   "outputs": [
    {
     "data": {
      "image/png": "[encoded data removed]",
      "text/plain": [
       "<matplotlib.figure.Figure at 0x116a900b8>"
      ]
     },
     "metadata": {},
     "output_type": "display_data"
    }
   ],
   "source": [
    "# GET /datasets/:id/variables/:vid/charts/2\n",
    "\n",
    "if not GATEWAY:\n",
    "    REQUEST = json.dumps({'path': {'id':'1', 'vid':'2'}})\n",
    "\n",
    "request = json.loads(REQUEST)\n",
    "id = request['path'].get('id')\n",
    "vid = request['path'].get('vid')\n",
    "\n",
    "sr=get_serie(id, vid)\n",
    "vardet = get_typestats(sr)\n",
    "\n",
    "if vardet['vtype']!='categorical' and vardet['vtype']!='unstructured':\n",
    "    plt.clf()\n",
    "    f = plt.boxplot(sr, 0, 'rs', 0, 0.75)\n",
    "    response_png()"
   ]
  },
  {
   "cell_type": "code",
   "execution_count": 37,
   "metadata": {
    "collapsed": false,
    "deletable": true,
    "editable": true
   },
   "outputs": [
    {
     "name": "stdout",
     "output_type": "stream",
     "text": [
      "{\"status\": 200, \"headers\": {\"Content-Type\": \"application/base64\"}}\n"
     ]
    }
   ],
   "source": [
    "# ResponseInfo GET /datasets/:id/variables/:vid/charts/2\n",
    "\n",
    "response_meta(200, 'application/base64')"
   ]
  },
  {
   "cell_type": "code",
   "execution_count": 38,
   "metadata": {
    "collapsed": false,
    "deletable": true,
    "editable": true
   },
   "outputs": [
    {
     "data": {
      "text/plain": [
       "{'desc': 'Master of Life',\n",
       " 'file': {'encoding': {'confidence': 1.0, 'encoding': 'ascii'},\n",
       "  'name': 'titanic.csv',\n",
       "  'path': './datasets/titanic.csv',\n",
       "  'size': '99.4KB'},\n",
       " 'id': '0',\n",
       " 'name': 'Titanic',\n",
       " 'vars': [{'alias': 'pclass',\n",
       "   'id': '0',\n",
       "   'name': 'pclass',\n",
       "   'type': {'cat': True,\n",
       "    'dtype': 'double',\n",
       "    'infinite': 0,\n",
       "    'integer': 1309,\n",
       "    'nan': 1,\n",
       "    'quality': 0.99923664122137401,\n",
       "    'real': 0,\n",
       "    'string': 0,\n",
       "    'tcoerce': 'integer',\n",
       "    'tpurity': 1.0,\n",
       "    'unique': 3,\n",
       "    'valid': 1309,\n",
       "    'vtype': 'categorical',\n",
       "    'zero': 0}},\n",
       "  {'alias': 'survived',\n",
       "   'id': '1',\n",
       "   'name': 'survived',\n",
       "   'type': {'cat': True,\n",
       "    'dtype': 'double',\n",
       "    'infinite': 0,\n",
       "    'integer': 1309,\n",
       "    'nan': 1,\n",
       "    'quality': 0.99923664122137401,\n",
       "    'real': 0,\n",
       "    'string': 0,\n",
       "    'tcoerce': 'integer',\n",
       "    'tpurity': 1.0,\n",
       "    'unique': 2,\n",
       "    'valid': 1309,\n",
       "    'vtype': 'categorical',\n",
       "    'zero': 809}},\n",
       "  {'alias': 'name',\n",
       "   'id': '2',\n",
       "   'name': 'name',\n",
       "   'type': {'cat': False,\n",
       "    'dtype': 'object',\n",
       "    'infinite': 0,\n",
       "    'integer': 0,\n",
       "    'nan': 1,\n",
       "    'quality': 0.99923664122137401,\n",
       "    'real': 0,\n",
       "    'string': 1309,\n",
       "    'tcoerce': 'string',\n",
       "    'tpurity': 1.0,\n",
       "    'unique': 1307,\n",
       "    'valid': 1309,\n",
       "    'vtype': 'unstructured',\n",
       "    'zero': 0}},\n",
       "  {'alias': 'sex',\n",
       "   'id': '3',\n",
       "   'name': 'sex',\n",
       "   'type': {'cat': True,\n",
       "    'dtype': 'object',\n",
       "    'infinite': 0,\n",
       "    'integer': 0,\n",
       "    'nan': 1,\n",
       "    'quality': 0.99923664122137401,\n",
       "    'real': 0,\n",
       "    'string': 1309,\n",
       "    'tcoerce': 'string',\n",
       "    'tpurity': 1.0,\n",
       "    'unique': 2,\n",
       "    'valid': 1309,\n",
       "    'vtype': 'categorical',\n",
       "    'zero': 0}},\n",
       "  {'alias': 'age',\n",
       "   'id': '4',\n",
       "   'name': 'age',\n",
       "   'type': {'cat': True,\n",
       "    'dtype': 'double',\n",
       "    'infinite': 0,\n",
       "    'integer': 1034,\n",
       "    'nan': 264,\n",
       "    'quality': 0.78931297709923665,\n",
       "    'real': 12,\n",
       "    'string': 0,\n",
       "    'tcoerce': 'integer',\n",
       "    'tpurity': 0.98852772466539196,\n",
       "    'unique': 76,\n",
       "    'valid': 1046,\n",
       "    'vtype': 'categorical',\n",
       "    'zero': 0}},\n",
       "  {'alias': 'sibsp',\n",
       "   'id': '5',\n",
       "   'name': 'sibsp',\n",
       "   'type': {'cat': True,\n",
       "    'dtype': 'double',\n",
       "    'infinite': 0,\n",
       "    'integer': 1309,\n",
       "    'nan': 1,\n",
       "    'quality': 0.99923664122137401,\n",
       "    'real': 0,\n",
       "    'string': 0,\n",
       "    'tcoerce': 'integer',\n",
       "    'tpurity': 1.0,\n",
       "    'unique': 7,\n",
       "    'valid': 1309,\n",
       "    'vtype': 'categorical',\n",
       "    'zero': 891}},\n",
       "  {'alias': 'parch',\n",
       "   'id': '6',\n",
       "   'name': 'parch',\n",
       "   'type': {'cat': True,\n",
       "    'dtype': 'double',\n",
       "    'infinite': 0,\n",
       "    'integer': 1309,\n",
       "    'nan': 1,\n",
       "    'quality': 0.99923664122137401,\n",
       "    'real': 0,\n",
       "    'string': 0,\n",
       "    'tcoerce': 'integer',\n",
       "    'tpurity': 1.0,\n",
       "    'unique': 8,\n",
       "    'valid': 1309,\n",
       "    'vtype': 'categorical',\n",
       "    'zero': 1002}},\n",
       "  {'alias': 'ticket',\n",
       "   'id': '7',\n",
       "   'name': 'ticket',\n",
       "   'type': {'cat': False,\n",
       "    'dtype': 'object',\n",
       "    'infinite': 0,\n",
       "    'integer': 957,\n",
       "    'nan': 1,\n",
       "    'quality': 0.73053435114503806,\n",
       "    'real': 0,\n",
       "    'string': 352,\n",
       "    'tcoerce': 'string',\n",
       "    'tpurity': 0.73109243697478987,\n",
       "    'unique': 929,\n",
       "    'valid': 1309,\n",
       "    'vtype': 'unstructured',\n",
       "    'zero': 0}},\n",
       "  {'alias': 'fare',\n",
       "   'id': '8',\n",
       "   'name': 'fare',\n",
       "   'type': {'cat': True,\n",
       "    'dtype': 'double',\n",
       "    'infinite': 0,\n",
       "    'integer': 444,\n",
       "    'nan': 2,\n",
       "    'quality': 0.65954198473282444,\n",
       "    'real': 864,\n",
       "    'string': 0,\n",
       "    'tcoerce': 'real',\n",
       "    'tpurity': 0.66055045871559637,\n",
       "    'unique': 121,\n",
       "    'valid': 1308,\n",
       "    'vtype': 'categorical',\n",
       "    'zero': 36}},\n",
       "  {'alias': 'cabin',\n",
       "   'id': '9',\n",
       "   'name': 'cabin',\n",
       "   'type': {'cat': False,\n",
       "    'dtype': 'object',\n",
       "    'infinite': 0,\n",
       "    'integer': 0,\n",
       "    'nan': 1015,\n",
       "    'quality': 0.22519083969465647,\n",
       "    'real': 0,\n",
       "    'string': 295,\n",
       "    'tcoerce': 'string',\n",
       "    'tpurity': 1.0,\n",
       "    'unique': 186,\n",
       "    'valid': 295,\n",
       "    'vtype': 'unstructured',\n",
       "    'zero': 0}},\n",
       "  {'alias': 'embarked',\n",
       "   'id': '10',\n",
       "   'name': 'embarked',\n",
       "   'type': {'cat': True,\n",
       "    'dtype': 'object',\n",
       "    'infinite': 0,\n",
       "    'integer': 0,\n",
       "    'nan': 3,\n",
       "    'quality': 0.99770992366412214,\n",
       "    'real': 0,\n",
       "    'string': 1307,\n",
       "    'tcoerce': 'string',\n",
       "    'tpurity': 1.0,\n",
       "    'unique': 3,\n",
       "    'valid': 1307,\n",
       "    'vtype': 'categorical',\n",
       "    'zero': 0}},\n",
       "  {'alias': 'boat',\n",
       "   'id': '11',\n",
       "   'name': 'boat',\n",
       "   'type': {'cat': True,\n",
       "    'dtype': 'object',\n",
       "    'infinite': 0,\n",
       "    'integer': 398,\n",
       "    'nan': 824,\n",
       "    'quality': 0.30381679389312977,\n",
       "    'real': 0,\n",
       "    'string': 88,\n",
       "    'tcoerce': 'string',\n",
       "    'tpurity': 0.81893004115226342,\n",
       "    'unique': 27,\n",
       "    'valid': 486,\n",
       "    'vtype': 'categorical',\n",
       "    'zero': 0}},\n",
       "  {'alias': 'body',\n",
       "   'id': '12',\n",
       "   'name': 'body',\n",
       "   'type': {'cat': False,\n",
       "    'dtype': 'double',\n",
       "    'infinite': 0,\n",
       "    'integer': 121,\n",
       "    'nan': 1189,\n",
       "    'quality': 0.092366412213740465,\n",
       "    'real': 0,\n",
       "    'string': 0,\n",
       "    'tcoerce': 'integer',\n",
       "    'tpurity': 1.0,\n",
       "    'unique': 121,\n",
       "    'valid': 121,\n",
       "    'vtype': 'ordinal',\n",
       "    'zero': 0}},\n",
       "  {'alias': 'home.dest',\n",
       "   'id': '13',\n",
       "   'name': 'home.dest',\n",
       "   'type': {'cat': False,\n",
       "    'dtype': 'object',\n",
       "    'infinite': 0,\n",
       "    'integer': 0,\n",
       "    'nan': 565,\n",
       "    'quality': 0.56870229007633588,\n",
       "    'real': 0,\n",
       "    'string': 745,\n",
       "    'tcoerce': 'string',\n",
       "    'tpurity': 1.0,\n",
       "    'unique': 369,\n",
       "    'valid': 745,\n",
       "    'vtype': 'unstructured',\n",
       "    'zero': 0}}]}"
      ]
     },
     "execution_count": 38,
     "metadata": {},
     "output_type": "execute_result"
    }
   ],
   "source": [
    "load_dataset('0')\n",
    "df_meta"
   ]
  },
  {
   "cell_type": "code",
   "execution_count": 39,
   "metadata": {
    "collapsed": false,
    "deletable": true,
    "editable": true
   },
   "outputs": [],
   "source": [
    "from sklearn import preprocessing\n",
    "\n",
    "def to_vect(sr):\n",
    "    d = sr.unique()\n",
    "    t = dict(zip(d,range(len(d))))\n",
    "    x = sr.map(lambda x: t[x] )\n",
    "    return x\n",
    "\n",
    "def C(sr):\n",
    "    enc = preprocessing.OneHotEncoder()\n",
    "    d = sr.unique()\n",
    "    t = dict(zip(d,range(len(d))))\n",
    "    x = [ [ t[x] ] for x in sr]\n",
    "    return enc.fit_transform(x).toarray()\n",
    "\n",
    "def colors(sr):\n",
    "    c = cm.rainbow(np.linspace(0, 1, len(sr.unique())))\n",
    "    x = [ c[x].tolist() for x in to_vect(sr)]\n",
    "    return np.array(x)\n",
    "\n"
   ]
  },
  {
   "cell_type": "code",
   "execution_count": 40,
   "metadata": {
    "collapsed": false,
    "deletable": true,
    "editable": true
   },
   "outputs": [],
   "source": [
    "# TEST \n",
    "load_dataset('2')\n",
    "variable = 'type1'\n",
    "#to_vect(df[variable])\n",
    "#print(C(df[variable]))\n",
    "#colors(df[variable])"
   ]
  },
  {
   "cell_type": "code",
   "execution_count": 41,
   "metadata": {
    "collapsed": false,
    "deletable": true,
    "editable": true
   },
   "outputs": [
    {
     "data": {
      "text/plain": [
       "{'desc': \"Gotta catch 'em all!\",\n",
       " 'file': {'encoding': {'confidence': 0.938125, 'encoding': 'utf-8'},\n",
       "  'name': 'pokemon.csv',\n",
       "  'path': './datasets/pokemon.csv',\n",
       "  'size': '43.0KB'},\n",
       " 'id': '2',\n",
       " 'name': 'Pokemon',\n",
       " 'vars': [{'alias': '_1',\n",
       "   'id': '0',\n",
       "   'name': '#',\n",
       "   'type': {'cat': False,\n",
       "    'dtype': 'long',\n",
       "    'infinite': 0,\n",
       "    'integer': 800,\n",
       "    'nan': 0,\n",
       "    'quality': 1.0,\n",
       "    'real': 0,\n",
       "    'string': 0,\n",
       "    'tcoerce': 'integer',\n",
       "    'tpurity': 1.0,\n",
       "    'unique': 721,\n",
       "    'valid': 800,\n",
       "    'vtype': 'ordinal',\n",
       "    'zero': 0}},\n",
       "  {'alias': 'name',\n",
       "   'id': '1',\n",
       "   'name': 'Name',\n",
       "   'type': {'cat': False,\n",
       "    'dtype': 'object',\n",
       "    'infinite': 0,\n",
       "    'integer': 0,\n",
       "    'nan': 0,\n",
       "    'quality': 1.0,\n",
       "    'real': 0,\n",
       "    'string': 800,\n",
       "    'tcoerce': 'string',\n",
       "    'tpurity': 1.0,\n",
       "    'unique': 800,\n",
       "    'valid': 800,\n",
       "    'vtype': 'unstructured',\n",
       "    'zero': 0}},\n",
       "  {'alias': 'type1',\n",
       "   'id': '2',\n",
       "   'name': 'Type 1',\n",
       "   'type': {'cat': True,\n",
       "    'dtype': 'object',\n",
       "    'infinite': 0,\n",
       "    'integer': 0,\n",
       "    'nan': 0,\n",
       "    'quality': 1.0,\n",
       "    'real': 0,\n",
       "    'string': 800,\n",
       "    'tcoerce': 'string',\n",
       "    'tpurity': 1.0,\n",
       "    'unique': 18,\n",
       "    'valid': 800,\n",
       "    'vtype': 'categorical',\n",
       "    'zero': 0}},\n",
       "  {'alias': 'type2',\n",
       "   'id': '3',\n",
       "   'name': 'Type 2',\n",
       "   'type': {'cat': True,\n",
       "    'dtype': 'object',\n",
       "    'infinite': 0,\n",
       "    'integer': 0,\n",
       "    'nan': 386,\n",
       "    'quality': 0.51749999999999996,\n",
       "    'real': 0,\n",
       "    'string': 414,\n",
       "    'tcoerce': 'string',\n",
       "    'tpurity': 1.0,\n",
       "    'unique': 18,\n",
       "    'valid': 414,\n",
       "    'vtype': 'categorical',\n",
       "    'zero': 0}},\n",
       "  {'alias': 'total',\n",
       "   'id': '4',\n",
       "   'name': 'Total',\n",
       "   'type': {'cat': False,\n",
       "    'dtype': 'long',\n",
       "    'infinite': 0,\n",
       "    'integer': 800,\n",
       "    'nan': 0,\n",
       "    'quality': 1.0,\n",
       "    'real': 0,\n",
       "    'string': 0,\n",
       "    'tcoerce': 'integer',\n",
       "    'tpurity': 1.0,\n",
       "    'unique': 200,\n",
       "    'valid': 800,\n",
       "    'vtype': 'descrete',\n",
       "    'zero': 0}},\n",
       "  {'alias': 'hp',\n",
       "   'id': '5',\n",
       "   'name': 'HP',\n",
       "   'type': {'cat': False,\n",
       "    'dtype': 'long',\n",
       "    'infinite': 0,\n",
       "    'integer': 800,\n",
       "    'nan': 0,\n",
       "    'quality': 1.0,\n",
       "    'real': 0,\n",
       "    'string': 0,\n",
       "    'tcoerce': 'integer',\n",
       "    'tpurity': 1.0,\n",
       "    'unique': 94,\n",
       "    'valid': 800,\n",
       "    'vtype': 'descrete',\n",
       "    'zero': 0}},\n",
       "  {'alias': 'attack',\n",
       "   'id': '6',\n",
       "   'name': 'Attack',\n",
       "   'type': {'cat': False,\n",
       "    'dtype': 'long',\n",
       "    'infinite': 0,\n",
       "    'integer': 800,\n",
       "    'nan': 0,\n",
       "    'quality': 1.0,\n",
       "    'real': 0,\n",
       "    'string': 0,\n",
       "    'tcoerce': 'integer',\n",
       "    'tpurity': 1.0,\n",
       "    'unique': 111,\n",
       "    'valid': 800,\n",
       "    'vtype': 'descrete',\n",
       "    'zero': 0}},\n",
       "  {'alias': 'defense',\n",
       "   'id': '7',\n",
       "   'name': 'Defense',\n",
       "   'type': {'cat': False,\n",
       "    'dtype': 'long',\n",
       "    'infinite': 0,\n",
       "    'integer': 800,\n",
       "    'nan': 0,\n",
       "    'quality': 1.0,\n",
       "    'real': 0,\n",
       "    'string': 0,\n",
       "    'tcoerce': 'integer',\n",
       "    'tpurity': 1.0,\n",
       "    'unique': 103,\n",
       "    'valid': 800,\n",
       "    'vtype': 'descrete',\n",
       "    'zero': 0}},\n",
       "  {'alias': 'sp.atk',\n",
       "   'id': '8',\n",
       "   'name': 'Sp. Atk',\n",
       "   'type': {'cat': False,\n",
       "    'dtype': 'long',\n",
       "    'infinite': 0,\n",
       "    'integer': 800,\n",
       "    'nan': 0,\n",
       "    'quality': 1.0,\n",
       "    'real': 0,\n",
       "    'string': 0,\n",
       "    'tcoerce': 'integer',\n",
       "    'tpurity': 1.0,\n",
       "    'unique': 105,\n",
       "    'valid': 800,\n",
       "    'vtype': 'descrete',\n",
       "    'zero': 0}},\n",
       "  {'alias': 'sp.def',\n",
       "   'id': '9',\n",
       "   'name': 'Sp. Def',\n",
       "   'type': {'cat': False,\n",
       "    'dtype': 'long',\n",
       "    'infinite': 0,\n",
       "    'integer': 800,\n",
       "    'nan': 0,\n",
       "    'quality': 1.0,\n",
       "    'real': 0,\n",
       "    'string': 0,\n",
       "    'tcoerce': 'integer',\n",
       "    'tpurity': 1.0,\n",
       "    'unique': 92,\n",
       "    'valid': 800,\n",
       "    'vtype': 'descrete',\n",
       "    'zero': 0}},\n",
       "  {'alias': 'speed',\n",
       "   'id': '10',\n",
       "   'name': 'Speed',\n",
       "   'type': {'cat': False,\n",
       "    'dtype': 'long',\n",
       "    'infinite': 0,\n",
       "    'integer': 800,\n",
       "    'nan': 0,\n",
       "    'quality': 1.0,\n",
       "    'real': 0,\n",
       "    'string': 0,\n",
       "    'tcoerce': 'integer',\n",
       "    'tpurity': 1.0,\n",
       "    'unique': 108,\n",
       "    'valid': 800,\n",
       "    'vtype': 'descrete',\n",
       "    'zero': 0}},\n",
       "  {'alias': 'generation',\n",
       "   'id': '11',\n",
       "   'name': 'Generation',\n",
       "   'type': {'cat': True,\n",
       "    'dtype': 'long',\n",
       "    'infinite': 0,\n",
       "    'integer': 800,\n",
       "    'nan': 0,\n",
       "    'quality': 1.0,\n",
       "    'real': 0,\n",
       "    'string': 0,\n",
       "    'tcoerce': 'integer',\n",
       "    'tpurity': 1.0,\n",
       "    'unique': 6,\n",
       "    'valid': 800,\n",
       "    'vtype': 'categorical',\n",
       "    'zero': 0}},\n",
       "  {'alias': 'legendary',\n",
       "   'id': '12',\n",
       "   'name': 'Legendary',\n",
       "   'type': {'cat': True,\n",
       "    'dtype': 'bool',\n",
       "    'infinite': 0,\n",
       "    'integer': 800,\n",
       "    'nan': 0,\n",
       "    'quality': 1.0,\n",
       "    'real': 0,\n",
       "    'string': 0,\n",
       "    'tcoerce': 'integer',\n",
       "    'tpurity': 1.0,\n",
       "    'unique': 2,\n",
       "    'valid': 800,\n",
       "    'vtype': 'categorical',\n",
       "    'zero': 735}}]}"
      ]
     },
     "execution_count": 41,
     "metadata": {},
     "output_type": "execute_result"
    }
   ],
   "source": [
    "len(df.columns)\n",
    "get_seriename('2', str(6))\n",
    "df_meta"
   ]
  },
  {
   "cell_type": "code",
   "execution_count": 42,
   "metadata": {
    "collapsed": false,
    "deletable": true,
    "editable": true
   },
   "outputs": [
    {
     "data": {
      "text/plain": [
       "721"
      ]
     },
     "execution_count": 42,
     "metadata": {},
     "output_type": "execute_result"
    }
   ],
   "source": [
    "#strong\n",
    "np.corrcoef(df['_1'], df.index)[0,1]\n",
    "\n",
    "#weak\n",
    "len(df['_1'].unique())/df.shape[0] >0.9\n",
    "\n",
    "len(df['_1'].unique())"
   ]
  },
  {
   "cell_type": "code",
   "execution_count": 43,
   "metadata": {
    "collapsed": false,
    "deletable": true,
    "editable": true
   },
   "outputs": [
    {
     "data": {
      "text/plain": [
       "[]"
      ]
     },
     "execution_count": 43,
     "metadata": {},
     "output_type": "execute_result"
    }
   ],
   "source": [
    "v1 = get_seriename('0', vtype='descrete')\n",
    "v2 = get_seriename('0', vtype='continuous')\n",
    "v1 + v2"
   ]
  },
  {
   "cell_type": "code",
   "execution_count": 44,
   "metadata": {
    "collapsed": true,
    "deletable": true,
    "editable": true
   },
   "outputs": [],
   "source": [
    "def auto_clusterer(id):\n",
    "    global clusterer, clusterer_id, clusterer_X\n",
    "    \n",
    "    if (clusterer_id == id) and clusterer:\n",
    "        return clusterer_X\n",
    "\n",
    "    # get numeric variables\n",
    "    v1 = get_seriename(id, vtype='descrete')\n",
    "    v2 = get_seriename(id, vtype='continuous')\n",
    "    v = v1 + v2\n",
    "\n",
    "    X = np.array(df[v] )\n",
    "\n",
    "    # scale the features to a common scale\n",
    "    scaler = preprocessing.MinMaxScaler()\n",
    "    X = scaler.fit_transform(X)\n",
    "\n",
    "    #apply tsne\n",
    "    for i in list(range(2)):\n",
    "        model = TSNE(n_components=2, verbose=0, n_iter=500, random_state=1337)\n",
    "        X = model.fit_transform(X)\n",
    "    \n",
    "    # knn\n",
    "    neigh = NearestNeighbors(n_neighbors=3)\n",
    "    neigh.fit(X)  \n",
    "    distances, indices = neigh.kneighbors(X)\n",
    "\n",
    "    # statistics on the distance, take hi wisker\n",
    "    d = np.mean(distances[:,1:3], axis=1)\n",
    "    b = matplotlib.cbook.boxplot_stats(d)\n",
    "    eps_best = b[0]['whishi']\n",
    "\n",
    "    # dbscan: extract centroids\n",
    "    dbscan = DBSCAN(eps=eps_best, min_samples=3).fit(X)\n",
    "    c = pd.DataFrame(X, columns=['x','y'])\n",
    "    c['l'] = dbscan.labels_\n",
    "    c = c[c['l']!= -1]\n",
    "    centroids = c.groupby('l').mean()\n",
    "    centroids.loc[:,'n'] = c.groupby('l').count()\n",
    "    centroids.loc[:,'c'] = centroids.index\n",
    "\n",
    "    #linkage on clusters centers\n",
    "    Z = hierarchy.linkage(centroids[['x', 'y']], 'ward')\n",
    "    \n",
    "    k = 8\n",
    "    clusters = len(centroids['c'].unique())\n",
    "    if clusters>k:\n",
    "        centroids.loc[:,'h'] = fcluster(Z, k, criterion='maxclust')\n",
    "    else:\n",
    "        centroids.loc[:,'h'] = centroids['c']\n",
    "\n",
    "    #take the smallest group, apply HDBSCAN\n",
    "    min_size = centroids.groupby('h').sum()['n'].min()\n",
    "    \n",
    "    clusterer = hdbscan.HDBSCAN().fit(X)\n",
    "    clusterer = hdbscan.HDBSCAN(min_cluster_size=int(min_size), min_samples=1).fit(X)\n",
    "    clusterer_id = id\n",
    "    clusterer_X = X\n",
    "    \n",
    "    return clusterer_X"
   ]
  },
  {
   "cell_type": "code",
   "execution_count": 45,
   "metadata": {
    "collapsed": false,
    "deletable": true,
    "editable": true
   },
   "outputs": [
    {
     "name": "stderr",
     "output_type": "stream",
     "text": [
      "/opt/local/Library/Frameworks/Python.framework/Versions/3.5/lib/python3.5/site-packages/sklearn/utils/validation.py:429: DataConversionWarning: Data with input dtype int64 was converted to float64 by MinMaxScaler.\n",
      "  warnings.warn(msg, _DataConversionWarning)\n"
     ]
    }
   ],
   "source": [
    "X = auto_clusterer('2')"
   ]
  },
  {
   "cell_type": "code",
   "execution_count": 46,
   "metadata": {
    "collapsed": false,
    "deletable": true,
    "editable": true
   },
   "outputs": [
    {
     "data": {
      "image/png": "[encoded data removed]",
      "text/plain": [
       "<matplotlib.figure.Figure at 0x1175de400>"
      ]
     },
     "metadata": {},
     "output_type": "display_data"
    }
   ],
   "source": [
    "# GET /datasets/:id/clustering/charts/1\n",
    "\n",
    "if not GATEWAY:\n",
    "    REQUEST = json.dumps({'path': {'id':'1'}})\n",
    "\n",
    "request = json.loads(REQUEST)\n",
    "id = request['path'].get('id')\n",
    "\n",
    "X = auto_clusterer(id)\n",
    "\n",
    "color_palette = sns.color_palette('Paired', len(clusterer.labels_))\n",
    "cluster_colors = [color_palette[x] if x >= 0\n",
    "                  else (1, 0, 0)\n",
    "                  for x in clusterer.labels_]\n",
    "plt.clf()\n",
    "f =plt.scatter(*X.T, s=50, linewidth=0, c=cluster_colors, alpha=0.5)\n",
    "response_png()"
   ]
  },
  {
   "cell_type": "code",
   "execution_count": 47,
   "metadata": {
    "collapsed": false,
    "deletable": true,
    "editable": true
   },
   "outputs": [
    {
     "name": "stdout",
     "output_type": "stream",
     "text": [
      "{\"status\": 200, \"headers\": {\"Content-Type\": \"application/base64\"}}\n"
     ]
    }
   ],
   "source": [
    "# ResponseInfo GET /datasets/:id/clustering/charts/1\n",
    "\n",
    "response_meta(200, 'application/base64')"
   ]
  },
  {
   "cell_type": "code",
   "execution_count": 48,
   "metadata": {
    "collapsed": false,
    "deletable": true,
    "editable": true
   },
   "outputs": [
    {
     "name": "stdout",
     "output_type": "stream",
     "text": [
      "[\n",
      "    {\n",
      "        \"cl\": \"-1\",\n",
      "        \"count\": 10\n",
      "    },\n",
      "    {\n",
      "        \"cl\": \"0\",\n",
      "        \"count\": 55\n",
      "    },\n",
      "    {\n",
      "        \"cl\": \"1\",\n",
      "        \"count\": 48\n",
      "    },\n",
      "    {\n",
      "        \"cl\": \"2\",\n",
      "        \"count\": 37\n",
      "    }\n",
      "]\n"
     ]
    }
   ],
   "source": [
    "# GET /datasets/:id/clustering/data\n",
    "\n",
    "if not GATEWAY:\n",
    "    REQUEST = json.dumps({'path': {'id':'1'}})\n",
    "\n",
    "request = json.loads(REQUEST)\n",
    "id = request['path'].get('id')\n",
    "\n",
    "auto_clusterer(id)\n",
    "\n",
    "color_palette = sns.color_palette('Paired', len(clusterer.labels_))\n",
    "cluster_colors = [color_palette[x] if x >= 0\n",
    "                  else (1, 0, 0)\n",
    "                  for x in clusterer.labels_]\n",
    "#plt.scatter(*X.T, s=50, linewidth=0, c=cluster_colors, alpha=0.5)\n",
    "#print(\"# clusters: for \", min_size, np.unique(clusterer.labels_, ))\n",
    "#plt.figure()\n",
    "#unique, counts = np.unique(clusterer.labels_, return_counts=True)\n",
    "#sns.barplot(x=unique, y=counts)\n",
    "#silhouette_avg = silhouette_score(X, clusterer.labels_)\n",
    "#print(\"The average silhouette_score for \" , min_size, \" is :\", silhouette_avg)\n",
    "\n",
    "unique, counts = np.unique(clusterer.labels_, return_counts=True)\n",
    "d = [{\"cl\":x, \"count\":y} for x,y in zip([str(x) for x in unique], counts)]\n",
    "response_dict(numpy_tojson(d), 'application/json')"
   ]
  },
  {
   "cell_type": "code",
   "execution_count": 49,
   "metadata": {
    "collapsed": false,
    "deletable": true,
    "editable": true
   },
   "outputs": [
    {
     "name": "stdout",
     "output_type": "stream",
     "text": [
      "{\"status\": 200, \"headers\": {\"Content-Type\": \"application/json\"}}\n"
     ]
    }
   ],
   "source": [
    "# ResponseInfo GET /datasets/:id/clustering/data\n",
    "\n",
    "response_meta()"
   ]
  },
  {
   "cell_type": "code",
   "execution_count": 51,
   "metadata": {
    "collapsed": false,
    "deletable": true,
    "editable": true
   },
   "outputs": [],
   "source": [
    "# GET /datasets/:id/clustering/charts/2\n",
    "\n",
    "if not GATEWAY:\n",
    "    REQUEST = json.dumps({'path': {'id':'1'}})\n",
    "\n",
    "request = json.loads(REQUEST)\n",
    "id = request['path'].get('id')\n",
    "\n",
    "auto_clusterer(id)\n",
    "\n",
    "\n",
    "v1 = get_seriename(id, vtype='descrete')\n",
    "v2 = get_seriename(id, vtype='continuous')\n",
    "v = v1 + v2\n",
    "\n",
    "DT = pd.DataFrame(df[v])\n",
    "DT['labels'] = clusterer.labels_\n",
    "\n",
    "#drop the outliers\n",
    "#DT = DT[DT['labels']!=-1]\n",
    "labels = [str(x) for x in np.unique(DT['labels'])]\n",
    "\n",
    "clf = tree.DecisionTreeClassifier(max_leaf_nodes=len(labels), class_weight='balanced')\n",
    "clf = clf.fit(DT[v], DT['labels'] )\n",
    "\n",
    "# dot_data = StringIO()  \n",
    "# tree.export_graphviz(clf, out_file=dot_data,  \n",
    "#                          feature_names=v,  \n",
    "#                          class_names=labels)  \n",
    "# graph = pydotplus.graph_from_dot_data(dot_data.getvalue())  \n",
    "# imgdata = Image(graph.create_png())  \n",
    "# response_png(imgdata)"
   ]
  },
  {
   "cell_type": "code",
   "execution_count": 52,
   "metadata": {
    "collapsed": false,
    "deletable": true,
    "editable": true
   },
   "outputs": [
    {
     "name": "stdout",
     "output_type": "stream",
     "text": [
      "{\"status\": 200, \"headers\": {\"Content-Type\": \"application/base64\"}}\n"
     ]
    }
   ],
   "source": [
    "# ResponseInfo GET /datasets/:id/clustering/charts/2\n",
    "\n",
    "response_meta(200, 'application/base64')"
   ]
  },
  {
   "cell_type": "code",
   "execution_count": 53,
   "metadata": {
    "collapsed": false,
    "deletable": true,
    "editable": true
   },
   "outputs": [
    {
     "name": "stdout",
     "output_type": "stream",
     "text": [
      "(150, 4)\n",
      "[t-SNE] Computing pairwise distances...\n",
      "[t-SNE] Computing 91 nearest neighbors...\n",
      "[t-SNE] Computed conditional probabilities for sample 150 / 150\n",
      "[t-SNE] Mean sigma: 0.158839\n",
      "[t-SNE] KL divergence after 100 iterations with early exaggeration: 1.392930\n",
      "[t-SNE] Error after 375 iterations: 1.392930\n",
      "[t-SNE] Computing pairwise distances...\n",
      "[t-SNE] Computing 91 nearest neighbors...\n",
      "[t-SNE] Computed conditional probabilities for sample 150 / 150\n",
      "[t-SNE] Mean sigma: 19.731529\n",
      "[t-SNE] KL divergence after 100 iterations with early exaggeration: 1.565908\n",
      "[t-SNE] Error after 375 iterations: 1.565908\n"
     ]
    }
   ],
   "source": [
    "\n",
    "#X = np.hstack( ( df[['total','hp','attack','defense','sp.atk', 'sp.def', 'speed']], C(df['type1']),C(df['type2']), C(df['generation']), C(df['legendary']) )  )\n",
    "#X = np.array(df[['total','hp','attack','defense','sp.atk', 'sp.def', 'speed']] )\n",
    "\n",
    "v1 = get_seriename('1', vtype='descrete')\n",
    "v2 = get_seriename('1', vtype='continuous')\n",
    "colnames = v1 + v2\n",
    "#colnames = ['sepal.length', 'sepal.width', 'petal.length', 'petal.width']\n",
    "\n",
    "X = np.array(df[colnames] )\n",
    "\n",
    "print(X.shape)\n",
    "\n",
    "scaler = preprocessing.MinMaxScaler()\n",
    "X = scaler.fit_transform(X)\n",
    "\n",
    "for x in list(range(2)):\n",
    "    model = TSNE(n_components=2, verbose=1, n_iter=500, random_state=1337)\n",
    "    X = model.fit_transform(X)\n"
   ]
  },
  {
   "cell_type": "code",
   "execution_count": 54,
   "metadata": {
    "collapsed": false,
    "deletable": true,
    "editable": true
   },
   "outputs": [
    {
     "name": "stdout",
     "output_type": "stream",
     "text": [
      "Explained variation per principal component: 0.537287960455521\n",
      "[-0.4277524  -0.90389595]\n"
     ]
    },
    {
     "data": {
      "text/plain": [
       "<matplotlib.axes._subplots.AxesSubplot at 0x1172564e0>"
      ]
     },
     "execution_count": 54,
     "metadata": {},
     "output_type": "execute_result"
    },
    {
     "data": {
      "image/png": "[encoded data removed]",
      "text/plain": [
       "<matplotlib.figure.Figure at 0x1177bd9b0>"
      ]
     },
     "metadata": {},
     "output_type": "display_data"
    }
   ],
   "source": [
    "pca = PCA(n_components=1)\n",
    "Y = pca.fit_transform(X)\n",
    "print('Explained variation per principal component: {}'.format(sum(pca.explained_variance_ratio_)))\n",
    "print(pca.components_[0])\n",
    "\n",
    "d = pca.components_\n",
    "sns.barplot(x=list(range(len(d[0]))), y=d[0])"
   ]
  },
  {
   "cell_type": "code",
   "execution_count": 55,
   "metadata": {
    "collapsed": false,
    "deletable": true,
    "editable": true
   },
   "outputs": [
    {
     "name": "stdout",
     "output_type": "stream",
     "text": [
      "(150, 2)\n",
      "[t-SNE] Computing pairwise distances...\n",
      "[t-SNE] Computing 91 nearest neighbors...\n",
      "[t-SNE] Computed conditional probabilities for sample 150 / 150\n",
      "[t-SNE] Mean sigma: 25.057268\n",
      "[t-SNE] KL divergence after 100 iterations with early exaggeration: 1.655490\n",
      "[t-SNE] Error after 375 iterations: 1.655490\n",
      "[t-SNE] Computing pairwise distances...\n",
      "[t-SNE] Computing 91 nearest neighbors...\n",
      "[t-SNE] Computed conditional probabilities for sample 150 / 150\n",
      "[t-SNE] Mean sigma: 29.228904\n",
      "[t-SNE] KL divergence after 100 iterations with early exaggeration: 1.661281\n",
      "[t-SNE] Error after 350 iterations: 1.661281\n"
     ]
    }
   ],
   "source": [
    "print(X.shape)\n",
    "\n",
    "model = TSNE(n_components=2, verbose=1, n_iter=500, random_state=1337)\n",
    "X = model.fit_transform(X)\n",
    "\n",
    "model = TSNE(n_components=2, verbose=1, n_iter=500, random_state=1337)\n",
    "X = model.fit_transform(X)\n"
   ]
  },
  {
   "cell_type": "code",
   "execution_count": 56,
   "metadata": {
    "collapsed": false,
    "deletable": true,
    "editable": true
   },
   "outputs": [
    {
     "data": {
      "text/plain": [
       "<seaborn.axisgrid.JointGrid at 0x11727b0b8>"
      ]
     },
     "execution_count": 56,
     "metadata": {},
     "output_type": "execute_result"
    },
    {
     "data": {
      "image/png": "[encoded data removed]",
      "text/plain": [
       "<matplotlib.figure.Figure at 0x11727be10>"
      ]
     },
     "metadata": {},
     "output_type": "display_data"
    }
   ],
   "source": [
    "#D = np.hstack( (Y, df[['type2']].as_matrix()))\n",
    "sns.jointplot(X[:,0], X[:,1])\n",
    "#plt.scatter(X[:,0], X[:,1], c=colors(df['type1']))\n"
   ]
  },
  {
   "cell_type": "code",
   "execution_count": 57,
   "metadata": {
    "collapsed": false,
    "deletable": true,
    "editable": true
   },
   "outputs": [
    {
     "data": {
      "text/plain": [
       "176.32439811185034"
      ]
     },
     "execution_count": 57,
     "metadata": {},
     "output_type": "execute_result"
    }
   ],
   "source": [
    "neigh = NearestNeighbors(n_neighbors=3)\n",
    "neigh.fit(X)  \n",
    "distances, indices = neigh.kneighbors(X)\n",
    "np.max(distances[:,1:3])"
   ]
  },
  {
   "cell_type": "code",
   "execution_count": 58,
   "metadata": {
    "collapsed": false,
    "deletable": true,
    "editable": true
   },
   "outputs": [
    {
     "data": {
      "text/plain": [
       "<matplotlib.axes._subplots.AxesSubplot at 0x11a330940>"
      ]
     },
     "execution_count": 58,
     "metadata": {},
     "output_type": "execute_result"
    },
    {
     "data": {
      "image/png": "[encoded data removed]",
      "text/plain": [
       "<matplotlib.figure.Figure at 0x11a363be0>"
      ]
     },
     "metadata": {},
     "output_type": "display_data"
    }
   ],
   "source": [
    "d = np.mean(distances[:,1:3], axis=1)\n",
    "sns.distplot(d)"
   ]
  },
  {
   "cell_type": "code",
   "execution_count": 59,
   "metadata": {
    "collapsed": false,
    "deletable": true,
    "editable": true
   },
   "outputs": [
    {
     "data": {
      "text/plain": [
       "16.380272198763063"
      ]
     },
     "execution_count": 59,
     "metadata": {},
     "output_type": "execute_result"
    },
    {
     "data": {
      "image/png": "[encoded data removed]",
      "text/plain": [
       "<matplotlib.figure.Figure at 0x11a3635c0>"
      ]
     },
     "metadata": {},
     "output_type": "display_data"
    }
   ],
   "source": [
    "plt.boxplot(d, 0, 'rs', 0)\n",
    "b = matplotlib.cbook.boxplot_stats(d)\n",
    "eps_best = b[0]['whishi']\n",
    "eps_best\n"
   ]
  },
  {
   "cell_type": "code",
   "execution_count": 60,
   "metadata": {
    "collapsed": false,
    "deletable": true,
    "editable": true
   },
   "outputs": [],
   "source": [
    "clusterer = DBSCAN(eps=eps_best, min_samples=3).fit(X)\n",
    "c = pd.DataFrame(X, columns=['x','y'])\n",
    "c['l'] = clusterer.labels_\n",
    "c = c[c['l']!= -1]\n",
    "centroids = c.groupby('l').mean()\n",
    "centroids.loc[:,'n'] = c.groupby('l').count()\n",
    "centroids.loc[:,'c'] = centroids.index"
   ]
  },
  {
   "cell_type": "code",
   "execution_count": 61,
   "metadata": {
    "collapsed": false,
    "deletable": true,
    "editable": true
   },
   "outputs": [
    {
     "data": {
      "text/html": [
       "<div>\n",
       "<table border=\"1\" class=\"dataframe\">\n",
       "  <thead>\n",
       "    <tr style=\"text-align: right;\">\n",
       "      <th></th>\n",
       "      <th>x</th>\n",
       "      <th>y</th>\n",
       "      <th>n</th>\n",
       "      <th>c</th>\n",
       "    </tr>\n",
       "    <tr>\n",
       "      <th>l</th>\n",
       "      <th></th>\n",
       "      <th></th>\n",
       "      <th></th>\n",
       "      <th></th>\n",
       "    </tr>\n",
       "  </thead>\n",
       "  <tbody>\n",
       "    <tr>\n",
       "      <th>0</th>\n",
       "      <td>-1.569451</td>\n",
       "      <td>-1.027268</td>\n",
       "      <td>134</td>\n",
       "      <td>0</td>\n",
       "    </tr>\n",
       "    <tr>\n",
       "      <th>1</th>\n",
       "      <td>75.413507</td>\n",
       "      <td>-46.528313</td>\n",
       "      <td>3</td>\n",
       "      <td>1</td>\n",
       "    </tr>\n",
       "  </tbody>\n",
       "</table>\n",
       "</div>"
      ],
      "text/plain": [
       "           x          y    n  c\n",
       "l                              \n",
       "0  -1.569451  -1.027268  134  0\n",
       "1  75.413507 -46.528313    3  1"
      ]
     },
     "execution_count": 61,
     "metadata": {},
     "output_type": "execute_result"
    }
   ],
   "source": [
    "centroids"
   ]
  },
  {
   "cell_type": "code",
   "execution_count": 62,
   "metadata": {
    "collapsed": false,
    "deletable": true,
    "editable": true
   },
   "outputs": [
    {
     "name": "stdout",
     "output_type": "stream",
     "text": [
      "16.3802721988\n",
      "# clusters:  [-1  0  1]\n",
      "13\n",
      "The average silhouette_score for  16.3802721988  is : 0.141779301157\n"
     ]
    },
    {
     "data": {
      "image/png": "[encoded data removed]",
      "text/plain": [
       "<matplotlib.figure.Figure at 0x11a438400>"
      ]
     },
     "metadata": {},
     "output_type": "display_data"
    },
    {
     "data": {
      "image/png": "[encoded data removed]",
      "text/plain": [
       "<matplotlib.figure.Figure at 0x1175a1588>"
      ]
     },
     "metadata": {},
     "output_type": "display_data"
    }
   ],
   "source": [
    "plt.scatter(*X.T, s=50, linewidth=0, c='grey', alpha=0.5)\n",
    "plt.scatter(centroids['x'], centroids['y'], c='r')\n",
    "print(eps_best)\n",
    "print(\"# clusters: \", np.unique(clusterer.labels_))\n",
    "plt.figure()\n",
    "h = pd.Series.value_counts(clusterer.labels_)\n",
    "sns.barplot(x=h.index, y=h.values)\n",
    "\n",
    "min_size = int(h.quantile(0.50))\n",
    "\n",
    "print(min_size)\n",
    "silhouette_avg = silhouette_score(X, clusterer.labels_)\n",
    "print(\"The average silhouette_score for \" , eps_best, \" is :\", silhouette_avg)"
   ]
  },
  {
   "cell_type": "code",
   "execution_count": 63,
   "metadata": {
    "collapsed": false,
    "deletable": true,
    "editable": true
   },
   "outputs": [
    {
     "data": {
      "image/png": "[encoded data removed]",
      "text/plain": [
       "<matplotlib.figure.Figure at 0x11a2ceda0>"
      ]
     },
     "metadata": {},
     "output_type": "display_data"
    }
   ],
   "source": [
    "# agglomerative clustering on cluster centers\n",
    "\n",
    "Z = hierarchy.linkage(centroids[['x', 'y']], 'ward')\n",
    "\n",
    "dn = hierarchy.dendrogram(Z)\n",
    "plt.show()\n",
    "\n"
   ]
  },
  {
   "cell_type": "code",
   "execution_count": 64,
   "metadata": {
    "collapsed": false,
    "deletable": true,
    "editable": true
   },
   "outputs": [
    {
     "data": {
      "text/plain": [
       "3"
      ]
     },
     "execution_count": 64,
     "metadata": {},
     "output_type": "execute_result"
    }
   ],
   "source": [
    "from scipy.cluster.hierarchy import fcluster\n",
    "\n",
    "k = 8\n",
    "clusters = len(centroids['c'].unique())\n",
    "if clusters>k:\n",
    "    centroids.loc[:,'h'] = fcluster(Z, k, criterion='maxclust')\n",
    "else:\n",
    "    centroids.loc[:,'h'] = centroids['c']\n",
    "    \n",
    "#take the smallest\n",
    "min_size = centroids.groupby('h').sum()['n'].min()\n",
    "min_size = min_size\n",
    "min_size"
   ]
  },
  {
   "cell_type": "code",
   "execution_count": 65,
   "metadata": {
    "collapsed": false,
    "deletable": true,
    "editable": true
   },
   "outputs": [
    {
     "data": {
      "text/html": [
       "<div>\n",
       "<table border=\"1\" class=\"dataframe\">\n",
       "  <thead>\n",
       "    <tr style=\"text-align: right;\">\n",
       "      <th></th>\n",
       "      <th>x</th>\n",
       "      <th>y</th>\n",
       "      <th>n</th>\n",
       "      <th>c</th>\n",
       "      <th>h</th>\n",
       "    </tr>\n",
       "    <tr>\n",
       "      <th>l</th>\n",
       "      <th></th>\n",
       "      <th></th>\n",
       "      <th></th>\n",
       "      <th></th>\n",
       "      <th></th>\n",
       "    </tr>\n",
       "  </thead>\n",
       "  <tbody>\n",
       "    <tr>\n",
       "      <th>0</th>\n",
       "      <td>-1.569451</td>\n",
       "      <td>-1.027268</td>\n",
       "      <td>134</td>\n",
       "      <td>0</td>\n",
       "      <td>0</td>\n",
       "    </tr>\n",
       "    <tr>\n",
       "      <th>1</th>\n",
       "      <td>75.413507</td>\n",
       "      <td>-46.528313</td>\n",
       "      <td>3</td>\n",
       "      <td>1</td>\n",
       "      <td>1</td>\n",
       "    </tr>\n",
       "  </tbody>\n",
       "</table>\n",
       "</div>"
      ],
      "text/plain": [
       "           x          y    n  c  h\n",
       "l                                 \n",
       "0  -1.569451  -1.027268  134  0  0\n",
       "1  75.413507 -46.528313    3  1  1"
      ]
     },
     "execution_count": 65,
     "metadata": {},
     "output_type": "execute_result"
    }
   ],
   "source": [
    "centroids\n"
   ]
  },
  {
   "cell_type": "code",
   "execution_count": 66,
   "metadata": {
    "collapsed": false,
    "deletable": true,
    "editable": true
   },
   "outputs": [
    {
     "data": {
      "text/plain": [
       "<matplotlib.collections.PathCollection at 0x11a809940>"
      ]
     },
     "execution_count": 66,
     "metadata": {},
     "output_type": "execute_result"
    },
    {
     "data": {
      "image/png": "[encoded data removed]",
      "text/plain": [
       "<matplotlib.figure.Figure at 0x1172d8c18>"
      ]
     },
     "metadata": {},
     "output_type": "display_data"
    }
   ],
   "source": [
    "color_palette = sns.color_palette('Paired', len(centroids['h'].unique()) )\n",
    "cluster_colors = [color_palette[x] if x >= 0\n",
    "                  else (0, 0, 0)\n",
    "                  for x in centroids['h']-1]\n",
    "\n",
    "plt.scatter(*X.T, s=50, linewidth=0, c='grey', alpha=0.5)\n",
    "plt.scatter(centroids['x'], centroids['y'], c=cluster_colors, s=50)"
   ]
  },
  {
   "cell_type": "code",
   "execution_count": 67,
   "metadata": {
    "collapsed": false,
    "deletable": true,
    "editable": true
   },
   "outputs": [
    {
     "data": {
      "text/plain": [
       "2"
      ]
     },
     "execution_count": 67,
     "metadata": {},
     "output_type": "execute_result"
    }
   ],
   "source": [
    "len(centroids['h'].unique())"
   ]
  },
  {
   "cell_type": "code",
   "execution_count": 68,
   "metadata": {
    "collapsed": false,
    "deletable": true,
    "editable": true
   },
   "outputs": [],
   "source": [
    "# d = [0]\n",
    "# for p in [ x for x in list(range(80,100)) ]:\n",
    "#     eps = np.percentile(distances[:,1:3],p)\n",
    "#     clusterer = DBSCAN(eps=eps, min_samples=3).fit(X)\n",
    "#     silhouette_avg = 0 if len(np.unique(clusterer.labels_))<2 else silhouette_score(X, clusterer.labels_)\n",
    "#     if silhouette_avg > max(d):\n",
    "#         eps_best = eps\n",
    "#     d.append(silhouette_avg)\n",
    "#     print(\"The average silhouette_score for \" , p, eps, \" is :\", silhouette_avg)\n",
    "\n",
    "# plt.plot(d)\n",
    "\n",
    "# eps_best "
   ]
  },
  {
   "cell_type": "code",
   "execution_count": 69,
   "metadata": {
    "collapsed": false,
    "deletable": true,
    "editable": true
   },
   "outputs": [
    {
     "name": "stdout",
     "output_type": "stream",
     "text": [
      "# clusters: for  3 [-1  0  1  2  3]\n",
      "The average silhouette_score for  3  is : 0.129273036306\n"
     ]
    },
    {
     "data": {
      "image/png": "[encoded data removed]",
      "text/plain": [
       "<matplotlib.figure.Figure at 0x11a636588>"
      ]
     },
     "metadata": {},
     "output_type": "display_data"
    },
    {
     "data": {
      "image/png": "[encoded data removed]",
      "text/plain": [
       "<matplotlib.figure.Figure at 0x11a91fe10>"
      ]
     },
     "metadata": {},
     "output_type": "display_data"
    }
   ],
   "source": [
    "clusterer = hdbscan.HDBSCAN().fit(X)\n",
    "\n",
    "clusterer = hdbscan.HDBSCAN(min_cluster_size=int(min_size), min_samples=1).fit(X)\n",
    "color_palette = sns.color_palette('Paired', len(clusterer.labels_))\n",
    "cluster_colors = [color_palette[x] if x >= 0\n",
    "                  else (1, 0, 0)\n",
    "                  for x in clusterer.labels_]\n",
    "# cluster_member_colors = [sns.desaturate(x, p) for x, p in\n",
    "#                          zip(cluster_colors, clusterer.probabilities_)]\n",
    "plt.scatter(*X.T, s=50, linewidth=0, c=cluster_colors, alpha=0.5)\n",
    "print(\"# clusters: for \", min_size, np.unique(clusterer.labels_, ))\n",
    "plt.figure()\n",
    "unique, counts = np.unique(clusterer.labels_, return_counts=True)\n",
    "sns.barplot(x=unique, y=counts)\n",
    "silhouette_avg = silhouette_score(X, clusterer.labels_)\n",
    "print(\"The average silhouette_score for \" , min_size, \" is :\", silhouette_avg)"
   ]
  },
  {
   "cell_type": "code",
   "execution_count": 70,
   "metadata": {
    "collapsed": false,
    "deletable": true,
    "editable": true
   },
   "outputs": [
    {
     "data": {
      "text/plain": [
       "<matplotlib.axes._subplots.AxesSubplot at 0x11a71b128>"
      ]
     },
     "execution_count": 70,
     "metadata": {},
     "output_type": "execute_result"
    },
    {
     "data": {
      "image/png": "[encoded data removed]",
      "text/plain": [
       "<matplotlib.figure.Figure at 0x11a852438>"
      ]
     },
     "metadata": {},
     "output_type": "display_data"
    }
   ],
   "source": [
    "clusterer.single_linkage_tree_.plot(cmap='viridis', colorbar=True)"
   ]
  },
  {
   "cell_type": "code",
   "execution_count": 71,
   "metadata": {
    "collapsed": false,
    "deletable": true,
    "editable": true
   },
   "outputs": [
    {
     "data": {
      "text/plain": [
       "<matplotlib.axes._subplots.AxesSubplot at 0x11940eeb8>"
      ]
     },
     "execution_count": 71,
     "metadata": {},
     "output_type": "execute_result"
    },
    {
     "data": {
      "image/png": "[encoded data removed]",
      "text/plain": [
       "<matplotlib.figure.Figure at 0x1193e1d68>"
      ]
     },
     "metadata": {},
     "output_type": "display_data"
    }
   ],
   "source": [
    "clusterer.condensed_tree_.plot(select_clusters=True, selection_palette=sns.color_palette())"
   ]
  },
  {
   "cell_type": "code",
   "execution_count": 72,
   "metadata": {
    "collapsed": false,
    "deletable": true,
    "editable": true
   },
   "outputs": [],
   "source": [
    "\n",
    "# d = []\n",
    "# for s in [ x for x in list(range(5,30, 2)) ]:\n",
    "#     clusterer = hdbscan.HDBSCAN(min_cluster_size=s).fit(X)\n",
    "#     silhouette_avg = silhouette_score(X, clusterer.labels_)\n",
    "#     d.append(silhouette_avg)\n",
    "#     print(\"The average silhouette_score for \" , s, \" is :\", silhouette_avg)\n",
    "\n",
    "# plt.plot(d)"
   ]
  },
  {
   "cell_type": "code",
   "execution_count": 73,
   "metadata": {
    "collapsed": false,
    "deletable": true,
    "editable": true
   },
   "outputs": [],
   "source": [
    "from sklearn import tree\n",
    "\n",
    "DT = pd.DataFrame(df[colnames])\n",
    "DT['labels'] = clusterer.labels_\n",
    "\n",
    "#drop the outliers\n",
    "DT = DT[DT['labels']!=-1]\n",
    "labels = [str(x) for x in np.unique(DT['labels'])]\n",
    "\n",
    "clf = tree.DecisionTreeClassifier(max_leaf_nodes=len(labels), class_weight='balanced')\n",
    "clf = clf.fit(DT[colnames], DT['labels'] )\n",
    "\n"
   ]
  },
  {
   "cell_type": "code",
   "execution_count": 74,
   "metadata": {
    "collapsed": false,
    "deletable": true,
    "editable": true
   },
   "outputs": [
    {
     "data": {
      "text/plain": [
       "['0', '1', '2', '3']"
      ]
     },
     "execution_count": 74,
     "metadata": {},
     "output_type": "execute_result"
    }
   ],
   "source": [
    "labels"
   ]
  },
  {
   "cell_type": "code",
   "execution_count": 75,
   "metadata": {
    "collapsed": false,
    "deletable": true,
    "editable": true
   },
   "outputs": [
    {
     "data": {
      "text/plain": [
       "['sepal.length', 'sepal.width', 'petal.length', 'petal.width']"
      ]
     },
     "execution_count": 75,
     "metadata": {},
     "output_type": "execute_result"
    }
   ],
   "source": [
    "colnames"
   ]
  },
  {
   "cell_type": "code",
   "execution_count": 76,
   "metadata": {
    "collapsed": false,
    "deletable": true,
    "editable": true
   },
   "outputs": [],
   "source": [
    "leaves = (clf.tree_.children_left==-1) | (clf.tree_.children_right==-1)"
   ]
  },
  {
   "cell_type": "code",
   "execution_count": 77,
   "metadata": {
    "collapsed": false,
    "deletable": true,
    "editable": true
   },
   "outputs": [
    {
     "data": {
      "text/plain": [
       "0.39285868778747673"
      ]
     },
     "execution_count": 77,
     "metadata": {},
     "output_type": "execute_result"
    }
   ],
   "source": [
    "np.mean(clf.tree_.impurity[leaves])"
   ]
  },
  {
   "cell_type": "code",
   "execution_count": 78,
   "metadata": {
    "collapsed": false,
    "deletable": true,
    "editable": true
   },
   "outputs": [
    {
     "data": {
      "text/plain": [
       "array([[[ 22.        ,   0.        ,  10.08333333,   1.46666667]],\n",
       "\n",
       "       [[  0.        ,   0.        ,  17.41666667,   2.93333333]],\n",
       "\n",
       "       [[  0.        ,   0.        ,   1.83333333,  13.2       ]],\n",
       "\n",
       "       [[ 11.        ,  33.        ,   3.66666667,  15.4       ]]])"
      ]
     },
     "execution_count": 78,
     "metadata": {},
     "output_type": "execute_result"
    }
   ],
   "source": [
    "clf.tree_.value[leaves]"
   ]
  },
  {
   "cell_type": "code",
   "execution_count": 79,
   "metadata": {
    "collapsed": false,
    "deletable": true,
    "editable": true
   },
   "outputs": [
    {
     "data": {
      "text/plain": [
       "array([ 2,  0,  1, -2, -2, -2, -2])"
      ]
     },
     "execution_count": 79,
     "metadata": {},
     "output_type": "execute_result"
    }
   ],
   "source": [
    "clf.tree_.feature"
   ]
  },
  {
   "cell_type": "code",
   "execution_count": 80,
   "metadata": {
    "collapsed": false,
    "deletable": true,
    "editable": true
   },
   "outputs": [
    {
     "data": {
      "text/plain": [
       "array([False, False, False,  True,  True,  True,  True], dtype=bool)"
      ]
     },
     "execution_count": 80,
     "metadata": {},
     "output_type": "execute_result"
    }
   ],
   "source": [
    "leaves"
   ]
  },
  {
   "cell_type": "code",
   "execution_count": 81,
   "metadata": {
    "collapsed": false,
    "deletable": true,
    "editable": true
   },
   "outputs": [
    {
     "data": {
      "text/plain": [
       "array([ 4.85000038,  5.14999962,  2.8499999 , -2.        , -2.        ,\n",
       "       -2.        , -2.        ])"
      ]
     },
     "execution_count": 81,
     "metadata": {},
     "output_type": "execute_result"
    }
   ],
   "source": [
    "clf.tree_.threshold"
   ]
  },
  {
   "cell_type": "code",
   "execution_count": 82,
   "metadata": {
    "collapsed": false,
    "deletable": true,
    "editable": true
   },
   "outputs": [
    {
     "name": "stdout",
     "output_type": "stream",
     "text": [
      "nr of leafs:  4\n"
     ]
    },
    {
     "data": {
      "text/plain": [
       "<matplotlib.axes._subplots.AxesSubplot at 0x1195201d0>"
      ]
     },
     "execution_count": 82,
     "metadata": {},
     "output_type": "execute_result"
    },
    {
     "data": {
      "image/png": "[encoded data removed]",
      "text/plain": [
       "<matplotlib.figure.Figure at 0x116cc71d0>"
      ]
     },
     "metadata": {},
     "output_type": "display_data"
    }
   ],
   "source": [
    "print(\"nr of leafs: \", sum(leaves))\n",
    "gini = clf.tree_.impurity[leaves]\n",
    "sns.barplot(x=list(range(sum(leaves))), y=gini)"
   ]
  },
  {
   "cell_type": "code",
   "execution_count": 83,
   "metadata": {
    "collapsed": false,
    "deletable": true,
    "editable": true
   },
   "outputs": [
    {
     "data": {
      "image/png": "[encoded data removed]",
      "text/plain": [
       "<IPython.core.display.Image object>"
      ]
     },
     "execution_count": 83,
     "metadata": {},
     "output_type": "execute_result"
    }
   ],
   "source": [
    "# import pydotplus\n",
    "# from sklearn.externals.six import StringIO\n",
    "# from IPython.display import Image  \n",
    "# dot_data = StringIO()  \n",
    "# tree.export_graphviz(clf, out_file=dot_data,  \n",
    "#                          feature_names=colnames,  \n",
    "#                          class_names=labels)  \n",
    "# graph = pydotplus.graph_from_dot_data(dot_data.getvalue())  \n",
    "# Image(graph.create_png())  "
   ]
  },
  {
   "cell_type": "code",
   "execution_count": null,
   "metadata": {
    "collapsed": true,
    "deletable": true,
    "editable": true
   },
   "outputs": [],
   "source": []
  },
  {
   "cell_type": "code",
   "execution_count": null,
   "metadata": {
    "collapsed": true,
    "deletable": true,
    "editable": true
   },
   "outputs": [],
   "source": []
  }
 ],
 "metadata": {
  "kernelspec": {
   "display_name": "Python 3",
   "language": "python",
   "name": "python3"
  },
  "language_info": {
   "codemirror_mode": {
    "name": "ipython",
    "version": 3
   },
   "file_extension": ".py",
   "mimetype": "text/x-python",
   "name": "python",
   "nbconvert_exporter": "python",
   "pygments_lexer": "ipython3",
   "version": "3.5.3"
  }
 },
 "nbformat": 4,
 "nbformat_minor": 0
}
